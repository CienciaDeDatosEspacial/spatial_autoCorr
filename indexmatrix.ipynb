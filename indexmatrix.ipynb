{
  "cells": [
    {
      "cell_type": "markdown",
      "id": "2921b8d1",
      "metadata": {
        "id": "2921b8d1"
      },
      "source": [
        "<center><img src=\"https://i.imgur.com/zRrFdsf.png\" width=\"700\"></center>\n",
        "\n",
        "\n",
        "\n",
        "\n",
        "\n",
        "\n",
        "# Neighboorhood and Spatial Correlation.\n",
        "\n"
      ]
    },
    {
      "cell_type": "markdown",
      "id": "470690cb-26d1-47f1-8538-af2af4c0821c",
      "metadata": {
        "id": "470690cb-26d1-47f1-8538-af2af4c0821c"
      },
      "source": [
        "## Getting ready\n"
      ]
    },
    {
      "cell_type": "markdown",
      "source": [
        "### Libraries needed\n",
        "\n",
        "Let's verify:"
      ],
      "metadata": {
        "id": "YMS4sKWblIST"
      },
      "id": "YMS4sKWblIST"
    },
    {
      "cell_type": "code",
      "source": [
        "!pip show pysal pandas geopandas"
      ],
      "metadata": {
        "id": "1zRAf4qulTUt"
      },
      "id": "1zRAf4qulTUt",
      "execution_count": null,
      "outputs": []
    },
    {
      "cell_type": "code",
      "source": [
        "## needed in Colab\n",
        "# !pip install pysal"
      ],
      "metadata": {
        "id": "5BWj7lOzlqM1"
      },
      "id": "5BWj7lOzlqM1",
      "execution_count": null,
      "outputs": []
    },
    {
      "cell_type": "markdown",
      "source": [
        "### Data to use\n",
        "\n",
        "Let me get two maps:\n",
        "\n",
        "1. The USA map, at states level,  directly from census.gov, which has a good quality."
      ],
      "metadata": {
        "id": "OP4EhKZClFKF"
      },
      "id": "OP4EhKZClFKF"
    },
    {
      "cell_type": "code",
      "execution_count": null,
      "id": "2baea660-3ad6-4552-b0ba-cfe857f55220",
      "metadata": {
        "id": "2baea660-3ad6-4552-b0ba-cfe857f55220"
      },
      "outputs": [],
      "source": [
        "import geopandas as gpd\n",
        "\n",
        "url = \"https://www2.census.gov/geo/tiger/GENZ2023/shp/cb_2023_us_state_500k.zip\"\n",
        "us_states = gpd.read_file(url)\n",
        "us_states.info(),us_states.crs.to_epsg(),us_states.crs.is_projected"
      ]
    },
    {
      "cell_type": "markdown",
      "id": "43e766ab-ae86-4bfb-b6d1-f1d5884c0192",
      "metadata": {
        "id": "43e766ab-ae86-4bfb-b6d1-f1d5884c0192"
      },
      "source": [
        "Notice this map has basic information per state. Also, notice the current crs will plot this:"
      ]
    },
    {
      "cell_type": "code",
      "execution_count": null,
      "id": "29efc27f-53be-4911-81de-5dcd1130c410",
      "metadata": {
        "id": "29efc27f-53be-4911-81de-5dcd1130c410"
      },
      "outputs": [],
      "source": [
        "us_states.plot()"
      ]
    },
    {
      "cell_type": "markdown",
      "id": "47f913d6-d84d-4d12-95b9-bf0ee3d774fc",
      "metadata": {
        "id": "47f913d6-d84d-4d12-95b9-bf0ee3d774fc"
      },
      "source": [
        "Let's reproject this map:"
      ]
    },
    {
      "cell_type": "code",
      "execution_count": null,
      "id": "fe787058-6364-4ac3-9f05-5fc730080492",
      "metadata": {
        "id": "fe787058-6364-4ac3-9f05-5fc730080492"
      },
      "outputs": [],
      "source": [
        "us_states=us_states.to_crs(5070)\n",
        "us_states.plot()"
      ]
    },
    {
      "cell_type": "markdown",
      "id": "7d083036-e08b-4a9c-8374-2901d7a0bbb6",
      "metadata": {
        "id": "7d083036-e08b-4a9c-8374-2901d7a0bbb6"
      },
      "source": [
        "Let's use the state name as index, that would help an easier identification of the places when we see most outputs (otherwise we will see just numerical indexes) :"
      ]
    },
    {
      "cell_type": "code",
      "execution_count": null,
      "id": "c9e9717e-b177-4067-ad74-199f4c545a39",
      "metadata": {
        "id": "c9e9717e-b177-4067-ad74-199f4c545a39"
      },
      "outputs": [],
      "source": [
        "us_states.set_index('NAME', inplace=True)\n",
        "us_states.head()"
      ]
    },
    {
      "cell_type": "markdown",
      "id": "5fb9fe21-0061-4298-94ed-29979fd622a4",
      "metadata": {
        "id": "5fb9fe21-0061-4298-94ed-29979fd622a4"
      },
      "source": [
        "Let's subset the us_states for some examples:"
      ]
    },
    {
      "cell_type": "code",
      "execution_count": null,
      "id": "8173f5cd-e780-46b8-b968-d5afe0f4ae65",
      "metadata": {
        "id": "8173f5cd-e780-46b8-b968-d5afe0f4ae65"
      },
      "outputs": [],
      "source": [
        "someStates=['Utah','Colorado','Arizona','New Mexico', 'Florida','Georgia','Alabama']\n",
        "sub_us=us_states[us_states.index.isin(someStates)]\n",
        "sub_us"
      ]
    },
    {
      "cell_type": "markdown",
      "id": "d80f45e1-eee0-4ad2-8be7-0de79874ff51",
      "metadata": {
        "id": "d80f45e1-eee0-4ad2-8be7-0de79874ff51"
      },
      "source": [
        "2. A map of Peru, at the 'distrito' level (similar to municipality in the USA - not exactly the same). The map comes from an unoffical [website](https://www.geogpsperu.com/p/descargas.html). Some columns have been added."
      ]
    },
    {
      "cell_type": "code",
      "execution_count": null,
      "id": "c54fa554-7aae-40c1-94a4-79bbc4bb9e73",
      "metadata": {
        "id": "c54fa554-7aae-40c1-94a4-79bbc4bb9e73"
      },
      "outputs": [],
      "source": [
        "peruDataLink=\"https://github.com/CienciaDeDatosEspacial/dataSets/raw/refs/heads/main/PERU/PeruMaps.gpkg\"\n",
        "peru_distritos=gpd.read_file(peruDataLink,layer='distritos')\n",
        "\n",
        "# some basic info\n",
        "peru_distritos.info(),peru_distritos.crs.to_epsg(),peru_distritos.crs.is_projected"
      ]
    },
    {
      "cell_type": "markdown",
      "id": "ab6620bb-868f-483b-affe-3651b605242c",
      "metadata": {
        "id": "ab6620bb-868f-483b-affe-3651b605242c"
      },
      "source": [
        "Let's reproject and plot:"
      ]
    },
    {
      "cell_type": "code",
      "execution_count": null,
      "id": "cbc32e48-142a-4c67-9402-dbfb92789025",
      "metadata": {
        "id": "cbc32e48-142a-4c67-9402-dbfb92789025"
      },
      "outputs": [],
      "source": [
        "peru_distritos=peru_distritos.to_crs(5387)\n",
        "peru_distritos.plot()"
      ]
    },
    {
      "cell_type": "markdown",
      "id": "77e93d34-ec00-41ef-8c03-a6d34cd4b735",
      "metadata": {
        "id": "77e93d34-ec00-41ef-8c03-a6d34cd4b735"
      },
      "source": [
        "Besides the spatial units (DEPARTAMEN, PROVINCIA, DISTRITO, and Ubigeo - \"Ubigeo\" is a code ), you have:\n",
        " - **Poblacion**: Population (2017)\n",
        " - **Superficie**: Area               \n",
        " - **IDH2019**: Human Development Index for DISTRITO (2019)                   \n",
        " - **Educ_sec_comp2019_pct**: Share of Population that finished High-School (2019)     \n",
        " - **NBI2017_pct**: Share of Population with poverty at the household level aggregated by DISTRITO. This index (\"Unsatisfied Basic Needs\") uses observable living conditions rather than income alone (2017).\n",
        " - **Viv_sin_serv_hig2017_pct**: Share of housing units that have no sanitation infrastructure aggregated by  DISTRITO (2017)\n",
        "\n",
        "Notice we should not use the 'distrito' name as index, because several of them are repeated:"
      ]
    },
    {
      "cell_type": "code",
      "execution_count": null,
      "id": "f1650da2-d70f-4e81-93b6-e68dddea2ba1",
      "metadata": {
        "id": "f1650da2-d70f-4e81-93b6-e68dddea2ba1"
      },
      "outputs": [],
      "source": [
        "peru_distritos[peru_distritos['DISTRITO'].duplicated()]"
      ]
    },
    {
      "cell_type": "markdown",
      "id": "f9646ccb-cc50-4c6b-8a41-0b2e3ce79221",
      "metadata": {
        "id": "f9646ccb-cc50-4c6b-8a41-0b2e3ce79221"
      },
      "source": [
        "Let's use 'Ubigeo', although is not the best solution"
      ]
    },
    {
      "cell_type": "code",
      "execution_count": null,
      "id": "a1861a45-87f3-4166-9a23-84b8d554c71a",
      "metadata": {
        "id": "a1861a45-87f3-4166-9a23-84b8d554c71a"
      },
      "outputs": [],
      "source": [
        "# of course\n",
        "peru_distritos[peru_distritos['Ubigeo'].duplicated()]"
      ]
    },
    {
      "cell_type": "code",
      "execution_count": null,
      "id": "7ab06ac1-836d-4e88-b839-fe40985260e6",
      "metadata": {
        "id": "7ab06ac1-836d-4e88-b839-fe40985260e6"
      },
      "outputs": [],
      "source": [
        "#then\n",
        "peru_distritos.set_index('Ubigeo', inplace=True)"
      ]
    },
    {
      "cell_type": "markdown",
      "id": "39cb95fc-6418-482e-8e44-46c0dfddcb76",
      "metadata": {
        "id": "39cb95fc-6418-482e-8e44-46c0dfddcb76"
      },
      "source": [
        "## I. Who is my neighbor?\n",
        "\n",
        "In spatial analysis, the intuitive concept of a “neighbor” can be operationalized in multiple ways.\n",
        "\n",
        "So far, we have identified neighbors using geometric operations such as buffering, spatial joins, and overlays. Now, let’s consider the distance matrix:\n"
      ]
    },
    {
      "cell_type": "code",
      "execution_count": null,
      "id": "848f793e-7aee-4352-a1bc-3851d6af4f71",
      "metadata": {
        "id": "848f793e-7aee-4352-a1bc-3851d6af4f71"
      },
      "outputs": [],
      "source": [
        "sub_us.geometry.apply\\\n",
        "(lambda state: sub_us.distance(state)/1000)"
      ]
    },
    {
      "cell_type": "code",
      "source": [
        "sub_us.explore()"
      ],
      "metadata": {
        "id": "ySb63caGmhkH"
      },
      "id": "ySb63caGmhkH",
      "execution_count": null,
      "outputs": []
    },
    {
      "cell_type": "markdown",
      "id": "51462dcd-b6e7-4942-aaab-2cb6bb095243",
      "metadata": {
        "id": "51462dcd-b6e7-4942-aaab-2cb6bb095243"
      },
      "source": [
        "From this matrix and plot, you’ll notice that neighboring features have a distance of zero—this occurs when two polygons share a boundary (i.e., they are contiguous). This observation helps illustrate the different approaches to defining neighbors:\n",
        "\n",
        "1. Binary Relationships:\n",
        "\n",
        "* Contiguity: Two polygons are considered neighbors if they share any portion of their boundary—whether at a point, along a line segment, or more extensively. In the distance matrix, such pairs show a distance of zero, reflecting direct spatial adjacency.\n",
        "* Discrete Proximity: In this approach, you request K neighbors, and you get the K closest ones to you.\n",
        "\n",
        "\n",
        "2. Continuous Relationships\n",
        "\n",
        "* Proximity: Two features are considered neighbors if the distance between them falls below a specified threshold (e.g., within 100 km). This approach is especially useful for point data or non-contiguous regions.\n",
        "* Shared Border Length: The strength of the neighbor relationship is weighted by the length of the shared boundary. Longer shared borders imply stronger spatial interaction—a common assumption in models of spatial diffusion or economic spillovers.\n",
        "\n",
        "Using matrices—rather than raw geometries—is essential for the mathematical representation and numerical computation required in upcoming spatial analytics techniques.\n",
        "\n",
        "PySAL (libpysal) is designed to handle spatial relationship matrices and integrates seamlessly with GeoPandas. Rather than relying solely on matrices, modern PySAL uses graph-based representations of spatial relationships. This approach is not only more memory-efficient but also speeds up computation and simplifies visualization—especially for large or sparse spatial datasets.  A key concept in these graphs is the distinction between:\n",
        "\n",
        "- Focal unit: the spatial feature (e.g., a state, county, or census tract) for which we are identifying neighbors.\n",
        "- Neighbor(s): the other spatial units that are considered related to the focal unit based on a chosen criterion (e.g., contiguity, distance, or shared border length).\n",
        "\n",
        "Let’s become familiar with the ```graph``` module in PySAL/libpysal, which provides a modern and flexible framework for constructing and working with spatial neighbor graphs.\n"
      ]
    },
    {
      "cell_type": "code",
      "execution_count": null,
      "id": "bf7fde32-a3a3-4a36-8466-58ccb64709be",
      "metadata": {
        "id": "bf7fde32-a3a3-4a36-8466-58ccb64709be"
      },
      "outputs": [],
      "source": [
        "from libpysal.graph import Graph"
      ]
    },
    {
      "cell_type": "markdown",
      "id": "395eab0a-10b6-4bd6-82d4-fd032ceb2ad6",
      "metadata": {
        "id": "395eab0a-10b6-4bd6-82d4-fd032ceb2ad6"
      },
      "source": [
        "### I. 1 Contiguity and Binary matrices\n",
        "\n",
        "Take a look at the **queen** and **rook** relationship:\n",
        "\n",
        "<center><img src=\"https://github.com/CienciaDeDatosEspacial/spatial_autoCorr/raw/main/rookQueen.png\" width=\"700\"></center>\n",
        "\n",
        "From the image above:\n",
        "- Your **rook** neighbor is whichever  shares a border with you (a borderline of at least two points). It is also known as the _Von Neumann_ neighbor.\n",
        "\n",
        "- Your **queen** neighbor is whichever  shares a border or a corner with you (at least one point).It is also known as the _Moore_ neighbor.\n",
        "\n",
        "Let's see how to get each set of neighbors"
      ]
    },
    {
      "cell_type": "markdown",
      "id": "399cab80-6684-46c1-a67b-ea403a15c491",
      "metadata": {
        "id": "399cab80-6684-46c1-a67b-ea403a15c491"
      },
      "source": [
        "#### I.1.a Rook\n",
        "\n",
        "* The key idea: A focal polygon considers another polygon a neighbor if they share a common edge—that is, two or more connected points forming a line segment of positive length.\n",
        "* The input: A GeoDataFrame (GDF) containing polygon geometries (e.g., states, counties, census tracts). Each row represents a spatial unit that can serve as a focal observation.\n",
        "* The process: For each polygon (focal unit), the algorithm checks all other polygons to determine whether their boundaries intersect along a line segment (not just at a point).\n",
        "* The output: A binary spatial graph (or adjacency structure) where each node represents a polygon (focal unit). An edge exists between two nodes only if they share a boundary segment. The corresponding adjacency matrix is binary.\n",
        "\n",
        "Given our input for the examples is **sub_us**, let's run..."
      ]
    },
    {
      "cell_type": "code",
      "execution_count": null,
      "id": "2918ee83-ea31-4553-b722-95a0c91278a3",
      "metadata": {
        "id": "2918ee83-ea31-4553-b722-95a0c91278a3"
      },
      "outputs": [],
      "source": [
        "sub_us_rook=Graph.build_contiguity(sub_us,rook=True)"
      ]
    },
    {
      "cell_type": "markdown",
      "source": [
        "Now let's check the ouput:\n",
        "\n",
        "**a. adjacency**"
      ],
      "metadata": {
        "id": "udc7WTHroK-b"
      },
      "id": "udc7WTHroK-b"
    },
    {
      "cell_type": "code",
      "execution_count": null,
      "id": "264cb54c-7d65-4907-960d-ac9781a509cf",
      "metadata": {
        "id": "264cb54c-7d65-4907-960d-ac9781a509cf"
      },
      "outputs": [],
      "source": [
        "sub_us_rook.adjacency"
      ]
    },
    {
      "cell_type": "markdown",
      "source": [
        "The previous results shows only the neighbors of the focals, to recreate a wide format:"
      ],
      "metadata": {
        "id": "jvCFSF6GpueP"
      },
      "id": "jvCFSF6GpueP"
    },
    {
      "cell_type": "code",
      "source": [
        "import pandas as pd\n",
        "pd.DataFrame(sub_us_rook.adjacency).unstack()"
      ],
      "metadata": {
        "id": "wz7Ioii6qSLJ"
      },
      "id": "wz7Ioii6qSLJ",
      "execution_count": null,
      "outputs": []
    },
    {
      "cell_type": "markdown",
      "source": [
        "We generally fill those missing valiues (not a neighbor) with zero."
      ],
      "metadata": {
        "id": "GdaBEdesqrdg"
      },
      "id": "GdaBEdesqrdg"
    },
    {
      "cell_type": "code",
      "execution_count": null,
      "id": "85d9b241-eb01-459c-9d59-88528daca842",
      "metadata": {
        "id": "85d9b241-eb01-459c-9d59-88528daca842"
      },
      "outputs": [],
      "source": [
        "pd.DataFrame(sub_us_rook.adjacency).unstack().fillna(0)"
      ]
    },
    {
      "cell_type": "markdown",
      "source": [
        "**b. adjacency graph**"
      ],
      "metadata": {
        "id": "sWSUGn-VuoCq"
      },
      "id": "sWSUGn-VuoCq"
    },
    {
      "cell_type": "markdown",
      "source": [
        "As we have a `GRAPH`, we can identify these neighborhood relationships via edges:"
      ],
      "metadata": {
        "id": "vWP2IkD7q4RY"
      },
      "id": "vWP2IkD7q4RY"
    },
    {
      "cell_type": "code",
      "execution_count": null,
      "id": "5bf6b93d-1c2d-4b4c-ab3c-a2998437ddc3",
      "metadata": {
        "id": "5bf6b93d-1c2d-4b4c-ab3c-a2998437ddc3"
      },
      "outputs": [],
      "source": [
        "sub_us_rook.explore(us_states, edge_kws=dict(alpha=0.4),zoom_start = 6)"
      ]
    },
    {
      "cell_type": "markdown",
      "metadata": {
        "id": "97d681e9"
      },
      "source": [
        "#### I.1.b Queen\n",
        "\n",
        "* The key idea: A focal polygon considers another polygon a neighbor if they share a common edge or a vertex (at least one point).\n",
        "* The input: A GeoDataFrame (GDF) containing polygon geometries (e.g., states, counties, census tracts). Each row represents a spatial unit that can serve as a focal observation.\n",
        "* The process: For each polygon (focal unit), the algorithm checks all other polygons to determine whether their boundaries intersect at any point or along a line segment.\n",
        "* The output: A binary spatial graph (or adjacency structure) where each node represents a polygon (focal unit). An edge exists between two nodes only if they share a point or boundary segment. The corresponding adjacency matrix is binary.\n",
        "\n",
        "Let's see what we get:"
      ],
      "id": "97d681e9"
    },
    {
      "cell_type": "code",
      "execution_count": null,
      "id": "95e1531a-73ba-492c-989b-a9273dcba81d",
      "metadata": {
        "id": "95e1531a-73ba-492c-989b-a9273dcba81d"
      },
      "outputs": [],
      "source": [
        "# first\n",
        "sub_us_queen=Graph.build_contiguity(sub_us,rook=False)"
      ]
    },
    {
      "cell_type": "markdown",
      "source": [
        "**a. adjacency**"
      ],
      "metadata": {
        "id": "Cupu2-MeugeR"
      },
      "id": "Cupu2-MeugeR"
    },
    {
      "cell_type": "code",
      "execution_count": null,
      "id": "ec8e8b63-0600-42ca-a722-e5a9202809c3",
      "metadata": {
        "id": "ec8e8b63-0600-42ca-a722-e5a9202809c3"
      },
      "outputs": [],
      "source": [
        "pd.DataFrame(sub_us_queen.adjacency).unstack().fillna(0)"
      ]
    },
    {
      "cell_type": "code",
      "source": [
        "sub_us_queen.explore?"
      ],
      "metadata": {
        "id": "n3NO7Db6xCiR"
      },
      "id": "n3NO7Db6xCiR",
      "execution_count": null,
      "outputs": []
    },
    {
      "cell_type": "code",
      "execution_count": null,
      "id": "798e3c5a-9e9e-422e-b75d-b81187dc27b6",
      "metadata": {
        "id": "798e3c5a-9e9e-422e-b75d-b81187dc27b6"
      },
      "outputs": [],
      "source": [
        "sub_us_queen.explore(us_states, edge_kws=dict(alpha=0.4),zoom_start = 6)\n",
        "\n"
      ]
    },
    {
      "cell_type": "markdown",
      "source": [
        "### I. 2 Disctrete proximity and Binary matrices\n"
      ],
      "metadata": {
        "id": "GLLkIify0eyX"
      },
      "id": "GLLkIify0eyX"
    },
    {
      "cell_type": "markdown",
      "id": "5f0485c0-2d60-418c-9fdc-33289d85b744",
      "metadata": {
        "id": "5f0485c0-2d60-418c-9fdc-33289d85b744"
      },
      "source": [
        "### KNN Proximity\n",
        "\n",
        "* **The key idea**: focal wants an amount 'K' of neighbors.\n",
        "* **The input**: the amount K of neighbors desired; the GDF of centroids or 'representative points' for every focal.\n",
        "* **The process**: for each node (focal) compute distances to the rest of nodes, so as to keep the K of closest nodes.\n",
        "* **The output**: a graph, where each node has at most K edges to the K closest nodes ('neighbors'). Edges are represented by a dichotomous adjacency matrix.\n",
        "\n",
        "Here it is:"
      ]
    },
    {
      "cell_type": "code",
      "execution_count": null,
      "id": "4cb4b861-9a56-4809-817a-507975a08b5d",
      "metadata": {
        "id": "4cb4b861-9a56-4809-817a-507975a08b5d"
      },
      "outputs": [],
      "source": [
        "sub_us_knn3 = Graph.build_knn(sub_us.representative_point(), # GDF\n",
        "                                 k=3) # desired k\n",
        "sub_us_knn3.adjacency"
      ]
    },
    {
      "cell_type": "code",
      "execution_count": null,
      "id": "6ab9a403-d963-4381-bb7d-90e4e7550f2f",
      "metadata": {
        "id": "6ab9a403-d963-4381-bb7d-90e4e7550f2f"
      },
      "outputs": [],
      "source": []
    },
    {
      "cell_type": "code",
      "execution_count": null,
      "id": "bab71234-7879-495c-ade0-77bf510050b9",
      "metadata": {
        "id": "bab71234-7879-495c-ade0-77bf510050b9"
      },
      "outputs": [],
      "source": [
        "adj_matrix = pd.DataFrame(sub_us_knn3.adjacency).reset_index()\n",
        "adj_matrix_wide = adj_matrix.pivot_table(\n",
        "    index='focal',\n",
        "    columns='neighbor',\n",
        "    values='weight',fill_value=0\n",
        ")\n",
        "\n",
        "adj_matrix_wide"
      ]
    },
    {
      "cell_type": "code",
      "execution_count": null,
      "id": "8db32aba-224d-41f6-bd6d-a5bf072bf583",
      "metadata": {
        "id": "8db32aba-224d-41f6-bd6d-a5bf072bf583"
      },
      "outputs": [],
      "source": [
        "sub_us_knn3.explore(us_states, edge_kws=dict(alpha=0.4))"
      ]
    },
    {
      "cell_type": "markdown",
      "id": "09bed2ee-3d03-4ff0-94bd-d827167ef5ea",
      "metadata": {
        "id": "09bed2ee-3d03-4ff0-94bd-d827167ef5ea"
      },
      "source": [
        "### Discrete Distance band-based Proximity\n",
        "\n",
        "* **The key idea**: focal wants all neighbors within a radius distance.\n",
        "* **The input**: the threshold (radius); the GDF of centroids or 'representative points' for every focal.\n",
        "* **The process**: for each node (focal) compute distances to all other nodes, keeping only those within the radius.\n",
        "* **The output**: a graph where each node has edges to all nodes ('neighbors') whose representative points lie within the radius. Edges are represented by a dichotomous adjacency matrix.\n",
        "\n",
        "Here it is:"
      ]
    },
    {
      "cell_type": "code",
      "execution_count": null,
      "id": "2f9f115c-ff41-4089-b7cd-a4ffd1526365",
      "metadata": {
        "id": "2f9f115c-ff41-4089-b7cd-a4ffd1526365"
      },
      "outputs": [],
      "source": [
        "us_states_band350k_D=Graph.build_distance_band(sub_us.representative_point(), threshold=350000)\n",
        "us_states_band350k_D.adjacency"
      ]
    },
    {
      "cell_type": "code",
      "execution_count": null,
      "id": "0bfa7f12-b499-43a9-8941-b4e895dc0985",
      "metadata": {
        "scrolled": true,
        "id": "0bfa7f12-b499-43a9-8941-b4e895dc0985"
      },
      "outputs": [],
      "source": [
        "adj_matrix = pd.DataFrame(us_states_band350k_D.adjacency).reset_index()\n",
        "adj_matrix_wide = adj_matrix.pivot_table(\n",
        "    index='focal',\n",
        "    columns='neighbor',\n",
        "    values='weight',fill_value=0\n",
        ")\n",
        "\n",
        "adj_matrix_wide"
      ]
    },
    {
      "cell_type": "code",
      "execution_count": null,
      "id": "17c2d531-895e-4e5f-a7e6-f90deceb3172",
      "metadata": {
        "id": "17c2d531-895e-4e5f-a7e6-f90deceb3172"
      },
      "outputs": [],
      "source": [
        "us_states_band350k_D.explore(us_states, edge_kws=dict(alpha=0.4))"
      ]
    },
    {
      "cell_type": "markdown",
      "id": "4601efd1-1cda-431b-93ab-965c70e21768",
      "metadata": {
        "id": "4601efd1-1cda-431b-93ab-965c70e21768"
      },
      "source": [
        "### Continuos Distance band-based Proximity\n",
        "\n",
        "* **The key idea**: focal wants all neighbors within a radius distance.\n",
        "* **The input**: the threshold (radius); the GDF of centroids or 'representative points' for every focal.\n",
        "* **The process**: for each node (focal) compute distances to all other nodes, keeping only those within the radius.\n",
        "* **The output**: a graph where each node has edges to all nodes ('neighbors') whose representative points lie within the radius. Edges are represented by a continuous adjacency matrix, the values represent the inverse distance between the nodes in the edges.\n",
        "\n",
        "Here it is:"
      ]
    },
    {
      "cell_type": "code",
      "execution_count": null,
      "id": "6ed3ac49-18ec-41ca-8317-8c7dc1cb6cdf",
      "metadata": {
        "id": "6ed3ac49-18ec-41ca-8317-8c7dc1cb6cdf"
      },
      "outputs": [],
      "source": [
        "sub_us_band750k_C=Graph.build_distance_band(sub_us.representative_point(), threshold=750000,binary=False)\n",
        "sub_us_band750k_C.adjacency\n"
      ]
    },
    {
      "cell_type": "code",
      "execution_count": null,
      "id": "a18f0ed0-4c53-4a9a-9fe9-60f2acf42330",
      "metadata": {
        "id": "a18f0ed0-4c53-4a9a-9fe9-60f2acf42330"
      },
      "outputs": [],
      "source": [
        "adj_matrix = pd.DataFrame(sub_us_band750k_C.adjacency).reset_index()\n",
        "adj_matrix_wide = adj_matrix.pivot_table(\n",
        "    index='focal',\n",
        "    columns='neighbor',\n",
        "    values='weight',fill_value=0\n",
        ")\n",
        "\n",
        "adj_matrix_wide"
      ]
    },
    {
      "cell_type": "code",
      "execution_count": null,
      "id": "7106e949-464c-4fd4-9cf4-302dd886ece3",
      "metadata": {
        "id": "7106e949-464c-4fd4-9cf4-302dd886ece3"
      },
      "outputs": [],
      "source": [
        "sub_us_band750k_C.explore(\n",
        "        us_states, edge_kws=dict(alpha=0.4)\n",
        "    )"
      ]
    },
    {
      "cell_type": "code",
      "execution_count": null,
      "id": "06975cc3-dd0d-458c-8dec-4c3dc0b3281d",
      "metadata": {
        "id": "06975cc3-dd0d-458c-8dec-4c3dc0b3281d"
      },
      "outputs": [],
      "source": [
        "sub_us_kernel5 = Graph.build_kernel(sub_us.representative_point(), k=5)\n",
        "sub_us_kernel5.adjacency"
      ]
    },
    {
      "cell_type": "code",
      "execution_count": null,
      "id": "fc98d208-e3b7-42b0-b6bf-fc9356e82bd9",
      "metadata": {
        "id": "fc98d208-e3b7-42b0-b6bf-fc9356e82bd9"
      },
      "outputs": [],
      "source": [
        "adj_matrix = pd.DataFrame(sub_us_kernel5.adjacency).reset_index()\n",
        "adj_matrix_wide = adj_matrix.pivot_table(\n",
        "    index='focal',\n",
        "    columns='neighbor',\n",
        "    values='weight',fill_value=0\n",
        ")\n",
        "\n",
        "adj_matrix_wide"
      ]
    },
    {
      "cell_type": "code",
      "execution_count": null,
      "id": "d068ab4c-beef-4a31-b764-e4d8e9702b9b",
      "metadata": {
        "scrolled": true,
        "id": "d068ab4c-beef-4a31-b764-e4d8e9702b9b"
      },
      "outputs": [],
      "source": [
        "sub_us_kernel5.explore(\n",
        "        us_states, edge_kws=dict(column=\"weight\",\n",
        "        style_kwds=dict(weight=5)    )\n",
        "    )"
      ]
    },
    {
      "cell_type": "code",
      "execution_count": null,
      "id": "b3d13b0c-37bc-4f3d-a8ba-1cd80ebbdb89",
      "metadata": {
        "id": "b3d13b0c-37bc-4f3d-a8ba-1cd80ebbdb89"
      },
      "outputs": [],
      "source": [
        "sub_us_perimeter = Graph.build_contiguity(sub_us, by_perimeter=True)\n",
        "sub_us_perimeter.adjacency\n"
      ]
    },
    {
      "cell_type": "code",
      "execution_count": null,
      "id": "0aa84a2e-dbd0-4ddf-a300-159408e1fa53",
      "metadata": {
        "id": "0aa84a2e-dbd0-4ddf-a300-159408e1fa53"
      },
      "outputs": [],
      "source": [
        "adj_matrix = pd.DataFrame(sub_us_perimeter.adjacency).reset_index()\n",
        "adj_matrix_wide = adj_matrix.pivot_table(\n",
        "    index='focal',\n",
        "    columns='neighbor',\n",
        "    values='weight',fill_value=0\n",
        ")\n",
        "\n",
        "adj_matrix_wide"
      ]
    },
    {
      "cell_type": "code",
      "execution_count": null,
      "id": "a7ebda32-ffcd-4928-bc2d-b55c301fc60d",
      "metadata": {
        "id": "a7ebda32-ffcd-4928-bc2d-b55c301fc60d"
      },
      "outputs": [],
      "source": [
        "sub_us_perimeter.explore(\n",
        "        us_states, edge_kws=dict(column=\"weight\",\n",
        "        style_kwds=dict(weight=5)    )\n",
        "    )"
      ]
    },
    {
      "cell_type": "code",
      "execution_count": null,
      "id": "d979d2f6-58d9-40c7-a668-cf06d0bb976a",
      "metadata": {
        "id": "d979d2f6-58d9-40c7-a668-cf06d0bb976a"
      },
      "outputs": [],
      "source": [
        "us_states_rook.isolates"
      ]
    },
    {
      "cell_type": "markdown",
      "id": "a4250eb5-01b4-42fa-96a5-bb1d9461f4be",
      "metadata": {
        "id": "a4250eb5-01b4-42fa-96a5-bb1d9461f4be"
      },
      "source": [
        "We can know several interesting information from this output:\n",
        "\n",
        "1. Count of nodes, count of rook neighbor relationships"
      ]
    },
    {
      "cell_type": "code",
      "execution_count": null,
      "id": "aa8bfef3-d74d-4c79-9b72-2278af7a7cc2",
      "metadata": {
        "id": "aa8bfef3-d74d-4c79-9b72-2278af7a7cc2"
      },
      "outputs": [],
      "source": [
        "us_states_rook.n, us_states_rook.n_edges/2"
      ]
    },
    {
      "cell_type": "markdown",
      "id": "38e67bdc-4290-4cf4-a7bf-02e4441279e8",
      "metadata": {
        "id": "38e67bdc-4290-4cf4-a7bf-02e4441279e8"
      },
      "source": [
        "2. For each state(focal node) which is a neighbor?"
      ]
    },
    {
      "cell_type": "code",
      "execution_count": null,
      "id": "14fb5cdf",
      "metadata": {
        "id": "14fb5cdf"
      },
      "outputs": [],
      "source": [
        "us_states_rook.adjacency"
      ]
    },
    {
      "cell_type": "markdown",
      "id": "49e8aacc-924c-48ad-9129-e81b5f74e9b9",
      "metadata": {
        "id": "49e8aacc-924c-48ad-9129-e81b5f74e9b9"
      },
      "source": [
        "3. For each state(focal node) how many neighbors does he have?"
      ]
    },
    {
      "cell_type": "code",
      "execution_count": null,
      "id": "8281c60c-6166-45d0-9018-a1e5028f5da2",
      "metadata": {
        "id": "8281c60c-6166-45d0-9018-a1e5028f5da2"
      },
      "outputs": [],
      "source": [
        "us_states_rook.cardinalities"
      ]
    },
    {
      "cell_type": "markdown",
      "id": "0da30a1a-7549-4821-91fa-395e2b946467",
      "metadata": {
        "id": "0da30a1a-7549-4821-91fa-395e2b946467"
      },
      "source": [
        "We can see a distribution of the cardinalities like this:"
      ]
    },
    {
      "cell_type": "code",
      "execution_count": null,
      "id": "d171d6eb-86bd-4ed1-ad67-633388420b16",
      "metadata": {
        "id": "d171d6eb-86bd-4ed1-ad67-633388420b16"
      },
      "outputs": [],
      "source": [
        "us_states_rook.cardinalities.plot(kind='hist')"
      ]
    },
    {
      "cell_type": "markdown",
      "id": "2231ccdd-9683-4b48-8205-e36d0d987b77",
      "metadata": {
        "id": "2231ccdd-9683-4b48-8205-e36d0d987b77"
      },
      "source": [
        "### The QUEEN neighbors\n",
        "\n",
        "The same function can give us the Queen neigbors:"
      ]
    },
    {
      "cell_type": "code",
      "execution_count": null,
      "id": "7ddac83b-c8a7-4cfb-bd6d-2fc98ed7f46b",
      "metadata": {
        "id": "7ddac83b-c8a7-4cfb-bd6d-2fc98ed7f46b"
      },
      "outputs": [],
      "source": [
        "us_states_queen=Graph.build_contiguity(us_states,rook=False)"
      ]
    },
    {
      "cell_type": "markdown",
      "id": "fb46b1a8-a407-4179-880d-6f422bca8a49",
      "metadata": {
        "id": "fb46b1a8-a407-4179-880d-6f422bca8a49"
      },
      "source": [
        "If there are not adjacent polygons , they will still be isolates:"
      ]
    },
    {
      "cell_type": "code",
      "execution_count": null,
      "id": "1d6f4cda-4727-45fa-8251-62465b94b3f1",
      "metadata": {
        "id": "1d6f4cda-4727-45fa-8251-62465b94b3f1"
      },
      "outputs": [],
      "source": [
        "us_states_queen.isolates"
      ]
    },
    {
      "cell_type": "markdown",
      "id": "6af50ed1-6589-4596-993b-d02c198da3df",
      "metadata": {
        "id": "6af50ed1-6589-4596-993b-d02c198da3df"
      },
      "source": [
        "Compare the cardinalities:"
      ]
    },
    {
      "cell_type": "code",
      "execution_count": null,
      "id": "dcbfa8cd-776e-4ac5-a3cb-0c81ecc3c76a",
      "metadata": {
        "id": "dcbfa8cd-776e-4ac5-a3cb-0c81ecc3c76a"
      },
      "outputs": [],
      "source": [
        "us_states_rook.cardinalities.rename('rook').plot(kind='hist',legend=True,alpha=0.6)\n",
        "us_states_queen.cardinalities.rename('queen').plot(kind='hist',legend=True,alpha=0.6)\n",
        "\n"
      ]
    },
    {
      "cell_type": "markdown",
      "id": "c76fcab3-39df-4edc-9863-ea1b10dfce59",
      "metadata": {
        "id": "c76fcab3-39df-4edc-9863-ea1b10dfce59"
      },
      "source": [
        "In general, when we request queen neighbors, you would see more values on the rigth tail, and some more flatteing (dispersion)."
      ]
    },
    {
      "cell_type": "markdown",
      "id": "eab06842-2f34-4852-86a7-5c76c489104a",
      "metadata": {
        "id": "eab06842-2f34-4852-86a7-5c76c489104a"
      },
      "source": [
        "Let's confirm the difference (and the quality of the map)"
      ]
    },
    {
      "cell_type": "code",
      "execution_count": null,
      "id": "7f4ddcd7-1ca2-4c81-a830-395b811d4cef",
      "metadata": {
        "id": "7f4ddcd7-1ca2-4c81-a830-395b811d4cef"
      },
      "outputs": [],
      "source": [
        "check=['Colorado']\n",
        "\n",
        "us_states_rook.adjacency.loc[check]"
      ]
    },
    {
      "cell_type": "code",
      "execution_count": null,
      "id": "64d7bb75-47cf-4d34-8cce-b7c716373667",
      "metadata": {
        "id": "64d7bb75-47cf-4d34-8cce-b7c716373667"
      },
      "outputs": [],
      "source": [
        "us_states_queen.adjacency.loc[check]"
      ]
    },
    {
      "cell_type": "markdown",
      "id": "c9caf120-3d69-4178-a31f-09d39a054acf",
      "metadata": {
        "id": "c9caf120-3d69-4178-a31f-09d39a054acf"
      },
      "source": [
        "Arizona is a queen neighbor only. This difference is due to the Four Corners Monument where Colorado meets Arizona at a single point. Our ap seems to have pretty good quality!"
      ]
    },
    {
      "cell_type": "code",
      "execution_count": null,
      "id": "6ecaeb3d-b5f6-4045-b6a5-e97f9690191a",
      "metadata": {
        "id": "6ecaeb3d-b5f6-4045-b6a5-e97f9690191a"
      },
      "outputs": [],
      "source": []
    },
    {
      "cell_type": "markdown",
      "id": "34419319-a1ed-42e0-8ac3-ec6b53fdaca4",
      "metadata": {
        "id": "34419319-a1ed-42e0-8ac3-ec6b53fdaca4"
      },
      "source": [
        "### The KNN neighbors\n",
        "\n",
        "This is a total different idea. Here you get the actual 'K\" neighbors of any focal point. Adjacency is not a problem, only proximity.\n",
        "Let me compute the 8 closest neighbosr for every state:"
      ]
    },
    {
      "cell_type": "code",
      "execution_count": null,
      "id": "904b3b9e-ca48-4226-b9c5-4df39b269375",
      "metadata": {
        "id": "904b3b9e-ca48-4226-b9c5-4df39b269375"
      },
      "outputs": [],
      "source": [
        "# K= 8\n",
        "us_states_knn8 = Graph.build_knn(us_states.representative_point(), k=8)"
      ]
    },
    {
      "cell_type": "markdown",
      "id": "bcb71d5c-4696-4449-b958-2c5fc97ba177",
      "metadata": {
        "id": "bcb71d5c-4696-4449-b958-2c5fc97ba177"
      },
      "source": [
        "Let's plot the result:"
      ]
    },
    {
      "cell_type": "code",
      "execution_count": null,
      "id": "692bfbf5-e11c-4fe6-822a-97814dc046e8",
      "metadata": {
        "id": "692bfbf5-e11c-4fe6-822a-97814dc046e8"
      },
      "outputs": [],
      "source": [
        "# K= 8\n"
      ]
    },
    {
      "cell_type": "markdown",
      "id": "e77f3e23-1ba4-4bde-be4e-b81787a157d2",
      "metadata": {
        "id": "e77f3e23-1ba4-4bde-be4e-b81787a157d2"
      },
      "source": [
        "You see no isolates this time, each state has 8 neighbors.\n",
        "\n",
        "This plot confirms the lack of variability:"
      ]
    },
    {
      "cell_type": "code",
      "execution_count": null,
      "id": "ef0d9d21-c485-49a8-8598-c1c9f92571e2",
      "metadata": {
        "id": "ef0d9d21-c485-49a8-8598-c1c9f92571e2"
      },
      "outputs": [],
      "source": [
        "us_states_knn8.cardinalities.plot(kind='hist',alpha=0.6)"
      ]
    },
    {
      "cell_type": "code",
      "execution_count": null,
      "id": "a9e85a30-7380-472f-a4f2-a96722790e5e",
      "metadata": {
        "id": "a9e85a30-7380-472f-a4f2-a96722790e5e"
      },
      "outputs": [],
      "source": [
        "us_states_knn8.adjacency"
      ]
    },
    {
      "cell_type": "markdown",
      "id": "33136fe2-87fb-4dd7-a505-f6fc75d5aa27",
      "metadata": {
        "id": "33136fe2-87fb-4dd7-a505-f6fc75d5aa27"
      },
      "source": [
        "### Kerneling"
      ]
    },
    {
      "cell_type": "code",
      "execution_count": null,
      "id": "cb9b1924-0a5b-4ef8-a378-e9cd26cd1425",
      "metadata": {
        "id": "cb9b1924-0a5b-4ef8-a378-e9cd26cd1425"
      },
      "outputs": [],
      "source": [
        "us_states_kernel8 = Graph.build_kernel(us_states.representative_point(), k=8)\n"
      ]
    },
    {
      "cell_type": "code",
      "execution_count": null,
      "id": "7baa6248-505b-4064-8368-4d327bbaad1d",
      "metadata": {
        "id": "7baa6248-505b-4064-8368-4d327bbaad1d"
      },
      "outputs": [],
      "source": [
        "us_states_kernel8.adjacency"
      ]
    },
    {
      "cell_type": "code",
      "execution_count": null,
      "id": "66af61fa-6af2-4449-8fe9-894b12af2038",
      "metadata": {
        "id": "66af61fa-6af2-4449-8fe9-894b12af2038"
      },
      "outputs": [],
      "source": [
        "us_states_dist_1k = Graph.build_distance_band(us_states.representative_point(), 1000000, binary=False)\n"
      ]
    },
    {
      "cell_type": "code",
      "execution_count": null,
      "id": "55290d18-7a7c-4c29-89a3-1069ca9285e6",
      "metadata": {
        "id": "55290d18-7a7c-4c29-89a3-1069ca9285e6"
      },
      "outputs": [],
      "source": [
        "us_states_dist_1k.adjacency"
      ]
    },
    {
      "cell_type": "code",
      "execution_count": null,
      "id": "533df01a-629b-4889-8198-050783b9a6ea",
      "metadata": {
        "id": "533df01a-629b-4889-8198-050783b9a6ea"
      },
      "outputs": [],
      "source": [
        "import pandas as pd\n",
        "\n",
        "# Reshape from long to wide format\n",
        "adj_matrix = pd.DataFrame(us_states_kernel8.adjacency).reset_index()\n",
        "adj_matrix_wide = adj_matrix.pivot_table(\n",
        "    index='focal',\n",
        "    columns='neighbor',\n",
        "    values='weight'\n",
        ")\n",
        "\n",
        "adj_matrix_wide"
      ]
    },
    {
      "cell_type": "markdown",
      "id": "0eb36c10-140c-4a62-8a41-45c7ba48670f",
      "metadata": {
        "id": "0eb36c10-140c-4a62-8a41-45c7ba48670f"
      },
      "source": [
        "$$w_{ij} = \\dfrac{1}{d_{ij}}$$"
      ]
    },
    {
      "cell_type": "code",
      "execution_count": null,
      "id": "0b03caf5-d372-47f1-99c7-4ecc20265d93",
      "metadata": {
        "id": "0b03caf5-d372-47f1-99c7-4ecc20265d93"
      },
      "outputs": [],
      "source": [
        "\n",
        "us_states_perimeter = Graph.build_contiguity(us_states, by_perimeter=True)\n"
      ]
    },
    {
      "cell_type": "code",
      "execution_count": null,
      "id": "ad85e205-18dc-4e75-abfd-97988203d0db",
      "metadata": {
        "id": "ad85e205-18dc-4e75-abfd-97988203d0db"
      },
      "outputs": [],
      "source": [
        "us_states_perimeter.adjacency"
      ]
    },
    {
      "cell_type": "markdown",
      "id": "d22477a5",
      "metadata": {
        "id": "d22477a5"
      },
      "source": [
        "## Am I independent from my neighbors?\n",
        "\n",
        "This is a crucial moment is statistics: traditionally, we assume our situation is independent of others'; so sampling may reveal unbiased  population insights. But, what if neigbors are affecting one another.\n",
        "\n",
        "Of course, by situation we mean a variable, for example, average HS completed in my 'distrito':"
      ]
    },
    {
      "cell_type": "code",
      "execution_count": null,
      "id": "55ca0cc1-f501-434d-9cce-4e5b9def0738",
      "metadata": {
        "id": "55ca0cc1-f501-434d-9cce-4e5b9def0738"
      },
      "outputs": [],
      "source": [
        "peru_distritos.Educ_sec_comp2019_pct.describe()"
      ]
    },
    {
      "cell_type": "markdown",
      "id": "b4b09812-48f9-4b30-ae5a-07101f35e8e7",
      "metadata": {
        "id": "b4b09812-48f9-4b30-ae5a-07101f35e8e7"
      },
      "source": [
        "See the choropleth:"
      ]
    },
    {
      "cell_type": "code",
      "execution_count": null,
      "id": "c7cc615c-38de-405c-8d68-537934933d70",
      "metadata": {
        "id": "c7cc615c-38de-405c-8d68-537934933d70"
      },
      "outputs": [],
      "source": [
        "peru_distritos.plot(\n",
        "    \"Educ_sec_comp2019_pct\",\n",
        "    scheme=\"quantiles\",\n",
        "    cmap=\"Reds_r\",\n",
        "    legend=True,figsize=(12, 10))"
      ]
    },
    {
      "cell_type": "markdown",
      "id": "a18ded1c-74d8-417e-be1b-b57bd747878b",
      "metadata": {
        "id": "a18ded1c-74d8-417e-be1b-b57bd747878b"
      },
      "source": [
        "The job now, is to compute the average of my neighbors on this variable."
      ]
    },
    {
      "cell_type": "markdown",
      "id": "f9bb84ee-430f-4cb6-bdaf-fe3b6c8d1518",
      "metadata": {
        "id": "f9bb84ee-430f-4cb6-bdaf-fe3b6c8d1518"
      },
      "source": [
        "### Adjacency and weights\n",
        "\n",
        "\n",
        "We know by now that we have to decide one neighborhood approach. Then, let's compute the queen neighbors:"
      ]
    },
    {
      "cell_type": "code",
      "execution_count": null,
      "id": "3f65fa93-f8ae-4507-a5bb-71d605fed1b8",
      "metadata": {
        "id": "3f65fa93-f8ae-4507-a5bb-71d605fed1b8"
      },
      "outputs": [],
      "source": [
        "peru_distritos_queen=Graph.build_contiguity(peru_distritos,rook=False)"
      ]
    },
    {
      "cell_type": "markdown",
      "id": "3de4f162-fd05-4843-bb21-b7c1cc4be772",
      "metadata": {
        "id": "3de4f162-fd05-4843-bb21-b7c1cc4be772"
      },
      "source": [
        "Now, we have the neighbors:"
      ]
    },
    {
      "cell_type": "code",
      "execution_count": null,
      "id": "b2c7dc26-ef2e-4132-8e3e-531ef1418d86",
      "metadata": {
        "id": "b2c7dc26-ef2e-4132-8e3e-531ef1418d86"
      },
      "outputs": [],
      "source": [
        "peru_distritos_queen.adjacency"
      ]
    },
    {
      "cell_type": "markdown",
      "id": "23a61cf2-451a-4c94-bd2f-39db91b6a8d7",
      "metadata": {
        "id": "23a61cf2-451a-4c94-bd2f-39db91b6a8d7"
      },
      "source": [
        "Let me turn that into a 'wide shape':"
      ]
    },
    {
      "cell_type": "code",
      "execution_count": null,
      "id": "4d6908b9-1163-4f44-a0ac-0a03aceaf4ac",
      "metadata": {
        "id": "4d6908b9-1163-4f44-a0ac-0a03aceaf4ac"
      },
      "outputs": [],
      "source": [
        "import pandas as pd\n",
        "\n",
        "# Reshape from long to wide format\n",
        "adj_matrix = pd.DataFrame(peru_distritos_queen.adjacency).reset_index()\n",
        "adj_matrix_wide = adj_matrix.pivot_table(\n",
        "    index='focal',\n",
        "    columns='neighbor',\n",
        "    values='weight',\n",
        "    fill_value=0\n",
        ")\n",
        "\n",
        "adj_matrix_wide"
      ]
    },
    {
      "cell_type": "markdown",
      "id": "832a81ab-5997-4395-8cf1-d122bd2cbb8f",
      "metadata": {
        "id": "832a81ab-5997-4395-8cf1-d122bd2cbb8f"
      },
      "source": [
        "Of course, you could get the cardinalities this way:"
      ]
    },
    {
      "cell_type": "code",
      "execution_count": null,
      "id": "3b5e31fe-a5c4-4584-b21e-cb04415890c3",
      "metadata": {
        "id": "3b5e31fe-a5c4-4584-b21e-cb04415890c3"
      },
      "outputs": [],
      "source": [
        "adj_matrix_wide.sum(axis=1)"
      ]
    },
    {
      "cell_type": "markdown",
      "id": "d3475bdd-fbf2-44ff-a74b-3f15f7fd2618",
      "metadata": {
        "id": "d3475bdd-fbf2-44ff-a74b-3f15f7fd2618"
      },
      "source": [
        "But we do not need cardinalities here. If needed it, I will simply be able to compute the average\n",
        "\n",
        "What I need is to use this neighborhood as a way to weight their effect on my situation.\n",
        "\n"
      ]
    },
    {
      "cell_type": "markdown",
      "id": "c137a5f9-4510-4866-949c-495785df72b2",
      "metadata": {
        "id": "c137a5f9-4510-4866-949c-495785df72b2"
      },
      "source": [
        "You can compute the adjacency with the weights now:"
      ]
    },
    {
      "cell_type": "code",
      "execution_count": null,
      "id": "7405b662-155e-43d0-a617-bfd917ea66b6",
      "metadata": {
        "id": "7405b662-155e-43d0-a617-bfd917ea66b6"
      },
      "outputs": [],
      "source": [
        "peru_distritos_queen=peru_distritos_queen.transform(\"r\")"
      ]
    },
    {
      "cell_type": "code",
      "execution_count": null,
      "id": "0dd8e2e9-143d-43e6-906a-8463f9ae1ad4",
      "metadata": {
        "id": "0dd8e2e9-143d-43e6-906a-8463f9ae1ad4"
      },
      "outputs": [],
      "source": [
        "The way to know if my value (education level) depends on my neigbor's, is to represent each 'distrito\" by the average of my neighbor values.\n"
      ]
    },
    {
      "cell_type": "markdown",
      "id": "597b22c2-58d8-4db9-81f1-e3d9f267d614",
      "metadata": {
        "id": "597b22c2-58d8-4db9-81f1-e3d9f267d614"
      },
      "source": [
        "Now, that weighted mean is the **lagged** variables:"
      ]
    },
    {
      "cell_type": "code",
      "execution_count": null,
      "id": "4f43cc26-4b3b-41ce-afd3-f5f71aafae8f",
      "metadata": {
        "id": "4f43cc26-4b3b-41ce-afd3-f5f71aafae8f"
      },
      "outputs": [],
      "source": [
        "y = peru_distritos[\"Educ_sec_comp2019_pct\"]\n",
        "ylag = peru_distritos_queen.lag(y)"
      ]
    },
    {
      "cell_type": "markdown",
      "id": "93d6e437-858b-498f-9573-f66f326db850",
      "metadata": {
        "id": "93d6e437-858b-498f-9573-f66f326db850"
      },
      "source": [
        "Let me add it to the GDF:"
      ]
    },
    {
      "cell_type": "code",
      "execution_count": null,
      "id": "410846ee-669e-4854-8d27-97377b39ec5f",
      "metadata": {
        "id": "410846ee-669e-4854-8d27-97377b39ec5f"
      },
      "outputs": [],
      "source": [
        "peru_distritos=peru_distritos.assign(Educ_sec_comp2019_pct_lagged=ylag)"
      ]
    },
    {
      "cell_type": "markdown",
      "id": "f2c8ec24-1436-4301-a2bf-fdf056ab4adb",
      "metadata": {
        "id": "f2c8ec24-1436-4301-a2bf-fdf056ab4adb"
      },
      "source": [
        "Plot both to compare:"
      ]
    },
    {
      "cell_type": "code",
      "execution_count": null,
      "id": "a864244b-efd7-49f8-84d2-4e13d168a731",
      "metadata": {
        "id": "a864244b-efd7-49f8-84d2-4e13d168a731"
      },
      "outputs": [],
      "source": [
        "import matplotlib.pyplot as plt\n",
        "\n",
        "fig, axes = plt.subplots(1, 2, figsize=(15, 8))\n",
        "\n",
        "commonParams=dict(scheme=\"quantiles\",cmap=\"Reds_r\",legend=True)\n",
        "# --- MAP 1\n",
        "peru_distritos.plot(\"Educ_sec_comp2019_pct\",ax=axes[0],**commonParams)\n",
        "axes[0].set_title('Share Population HS Completed (original)', fontsize=14)\n",
        "axes[0].set_axis_off()\n",
        "\n",
        "# --- MAP 2\n",
        "peru_distritos.plot(\"Educ_sec_comp2019_pct_lagged\",ax=axes[1],**commonParams)\n",
        "axes[1].set_title('Share Population HS Completed (lagged)', fontsize=14)\n",
        "axes[1].set_axis_off()\n",
        "\n",
        "plt.tight_layout()\n",
        "plt.show()\n"
      ]
    },
    {
      "cell_type": "code",
      "execution_count": null,
      "id": "359439d7-aeb2-47f1-bca8-2e4e11fdad37",
      "metadata": {
        "id": "359439d7-aeb2-47f1-bca8-2e4e11fdad37"
      },
      "outputs": [],
      "source": [
        "peru_distritos.plot.scatter(\"Educ_sec_comp2019_pct\",\"Educ_sec_comp2019_pct_lagged\")"
      ]
    },
    {
      "cell_type": "code",
      "execution_count": null,
      "id": "9402b558-02de-42c5-be7c-39987c969bec",
      "metadata": {
        "id": "9402b558-02de-42c5-be7c-39987c969bec"
      },
      "outputs": [],
      "source": [
        "import esda\n",
        "\n",
        "mi = esda.Moran(peru_distritos['Educ_sec_comp2019_pct'], peru_distritos_queen)"
      ]
    },
    {
      "cell_type": "code",
      "execution_count": null,
      "id": "78bf9464-dcfc-40e3-8188-933ebc80ab03",
      "metadata": {
        "id": "78bf9464-dcfc-40e3-8188-933ebc80ab03"
      },
      "outputs": [],
      "source": [
        "mi.I,mi.p_sim"
      ]
    },
    {
      "cell_type": "code",
      "execution_count": null,
      "id": "20b41ac6-090c-4e59-ba4c-91ccbd7063f7",
      "metadata": {
        "id": "20b41ac6-090c-4e59-ba4c-91ccbd7063f7"
      },
      "outputs": [],
      "source": [
        "lisa = esda.Moran_Local(peru_distritos['Educ_sec_comp2019_pct'], peru_distritos_queen)"
      ]
    },
    {
      "cell_type": "code",
      "execution_count": null,
      "id": "c00c7096-0437-425d-befb-e23904e8aea5",
      "metadata": {
        "id": "c00c7096-0437-425d-befb-e23904e8aea5"
      },
      "outputs": [],
      "source": [
        "peru_distritos['cluster'] = lisa.get_cluster_labels(crit_value=0.05)"
      ]
    },
    {
      "cell_type": "code",
      "execution_count": null,
      "id": "b3358768-527c-40b3-b957-c94c658797d9",
      "metadata": {
        "id": "b3358768-527c-40b3-b957-c94c658797d9"
      },
      "outputs": [],
      "source": [
        "peru_distritos['cluster'].value_counts()"
      ]
    },
    {
      "cell_type": "code",
      "execution_count": null,
      "id": "25ce458f-23b8-48b8-98d6-22f7c0198450",
      "metadata": {
        "id": "25ce458f-23b8-48b8-98d6-22f7c0198450"
      },
      "outputs": [],
      "source": [
        "lisa.explore(peru_distritos,crit_value=0.05,\n",
        "  prefer_canvas=True,\n",
        "  tiles=\"CartoDB Positron\",\n",
        ")"
      ]
    },
    {
      "cell_type": "code",
      "execution_count": null,
      "id": "7462a3fb-e9f4-4c19-a518-40aa0e316c3e",
      "metadata": {
        "id": "7462a3fb-e9f4-4c19-a518-40aa0e316c3e"
      },
      "outputs": [],
      "source": []
    },
    {
      "cell_type": "code",
      "execution_count": null,
      "id": "f4e93156-8987-46dc-b7b6-28494f1b53e4",
      "metadata": {
        "id": "f4e93156-8987-46dc-b7b6-28494f1b53e4"
      },
      "outputs": [],
      "source": []
    },
    {
      "cell_type": "markdown",
      "id": "8b1899e2-554d-41ce-b38b-0830802ccaae",
      "metadata": {
        "id": "8b1899e2-554d-41ce-b38b-0830802ccaae"
      },
      "source": [
        "## Global spatial correlation\n",
        "\n",
        "If a spatial unit (a row) value in a variable is correlated with values of the neighbors, you know that proximity is interfering with the interpretation.\n",
        "\n",
        "We need the neighboorhood matrix (the weight matrix) to compute spatial correlation."
      ]
    },
    {
      "cell_type": "markdown",
      "id": "f0721a79",
      "metadata": {
        "id": "f0721a79"
      },
      "source": [
        "If we standardize by row, the neighboors in a row add to 1:"
      ]
    },
    {
      "cell_type": "code",
      "execution_count": null,
      "id": "0b103792-bf59-4965-bf9a-17d51be8b49b",
      "metadata": {
        "id": "0b103792-bf59-4965-bf9a-17d51be8b49b"
      },
      "outputs": [],
      "source": [
        "# needed for spatial correlation\n",
        "w_knn8.transform = 'R'"
      ]
    },
    {
      "cell_type": "markdown",
      "id": "dab308c8-26ad-45bb-aa05-5462cd07fc5c",
      "metadata": {
        "id": "dab308c8-26ad-45bb-aa05-5462cd07fc5c"
      },
      "source": [
        "Spatial correlation is measured by the Moran's I statistic:"
      ]
    },
    {
      "cell_type": "code",
      "execution_count": null,
      "id": "a7aaedad-e443-407c-9146-3b87c94f237c",
      "metadata": {
        "id": "a7aaedad-e443-407c-9146-3b87c94f237c"
      },
      "outputs": [],
      "source": [
        "from esda.moran import Moran\n",
        "\n",
        "moranHS = Moran(peru_distritos['Educ_sec_comp2019_pct'], w_knn8)\n",
        "moranHS.I,moranHS.p_sim"
      ]
    },
    {
      "cell_type": "markdown",
      "id": "f17dab87-7709-405e-afbe-605e10688d18",
      "metadata": {
        "id": "f17dab87-7709-405e-afbe-605e10688d18"
      },
      "source": [
        "A significant Moran's I suggest spatial correlation. Let's see the spatial scatter plot"
      ]
    },
    {
      "cell_type": "code",
      "execution_count": null,
      "id": "0f69e7e5-a4d8-4d31-be91-f295cfb19f68",
      "metadata": {
        "id": "0f69e7e5-a4d8-4d31-be91-f295cfb19f68"
      },
      "outputs": [],
      "source": [
        "from splot.esda import moran_scatterplot\n",
        "\n",
        "fig, ax = moran_scatterplot(moranHS, aspect_equal=True)\n",
        "ax.set_xlabel('moranHS_std')\n",
        "ax.set_ylabel('moranHS_lagged_std');"
      ]
    },
    {
      "cell_type": "markdown",
      "id": "2b6a56a5-c9ff-4642-9e57-a98b9195c867",
      "metadata": {
        "id": "2b6a56a5-c9ff-4642-9e57-a98b9195c867"
      },
      "source": [
        "## Local Spatial Correlation\n",
        "\n",
        "We can compute a Local Index of Spatial Association (LISA -local Moran) for each map object. That will help us find spatial clusters (spots) and spatial outliers:\n",
        "\n",
        "* A **hotSpot** is a polygon whose value in the variable is high AND is surrounded with polygons with also high values.\n",
        "\n",
        "* A **coldSpot** is a polygon whose value in the variable is low AND is surrounded with polygons with also low values.\n",
        "\n",
        "* A **coldOutlier** is a polygon whose value in the variable is low BUT is surrounded with polygons with  high values.\n",
        "\n",
        "* A **hotOutlier** is a polygon whose value in the variable is high BUT is surrounded with polygons with  low values.\n",
        "\n",
        "\n",
        "High-High (HH): values above average surrounded by values above average.\n",
        "Low-Low (LL): values below average surrounded by values below average.\n",
        "High-Low (HL): values above average surrounded by values below average.\n",
        "Low-High (LH): values below average surrounded by values above average.\n",
        "\n",
        "It is also possible that no significant correlation is detected. Let's see those values:"
      ]
    },
    {
      "cell_type": "code",
      "execution_count": null,
      "id": "7fdd8789-9f56-4a80-b1cd-77c2032d84c5",
      "metadata": {
        "id": "7fdd8789-9f56-4a80-b1cd-77c2032d84c5"
      },
      "outputs": [],
      "source": [
        "peru_distritos['cluster'].value_counts(sort=False)"
      ]
    },
    {
      "cell_type": "code",
      "execution_count": null,
      "id": "5c2a20a5-1396-4bc4-bd67-bd5c86d260e7",
      "metadata": {
        "id": "5c2a20a5-1396-4bc4-bd67-bd5c86d260e7"
      },
      "outputs": [],
      "source": [
        "\n",
        "labels = [ '0 no_sig', '1 hotSpot', '2 coldOutlier', '3 coldSpot', '4 hotOutlier']\n",
        "\n",
        "lisaResults['HS_lisa_quadrant']=[labels[i] for i in lisaResults['HS_lisa']]\n",
        "\n",
        "lisaResults['HS_lisa_quadrant'].value_counts()"
      ]
    },
    {
      "cell_type": "code",
      "execution_count": null,
      "id": "f9bb00cf-28a9-4ef7-897d-edf54f7369ac",
      "metadata": {
        "id": "f9bb00cf-28a9-4ef7-897d-edf54f7369ac"
      },
      "outputs": [],
      "source": [
        "peru_distritos['HS_lisa_quadrant']=lisaResults['HS_lisa_quadrant']"
      ]
    },
    {
      "cell_type": "code",
      "execution_count": null,
      "id": "4b9cefa8-2428-4a7d-a756-92dd853c837c",
      "metadata": {
        "id": "4b9cefa8-2428-4a7d-a756-92dd853c837c"
      },
      "outputs": [],
      "source": [
        "peru_distritos.crs"
      ]
    },
    {
      "cell_type": "code",
      "execution_count": null,
      "id": "c52f4c28-3b61-4b69-a40c-88ab96ee3acc",
      "metadata": {
        "id": "c52f4c28-3b61-4b69-a40c-88ab96ee3acc"
      },
      "outputs": [],
      "source": [
        "import matplotlib.pyplot as plt\n",
        "# custom colors\n",
        "from matplotlib import colors\n",
        "myColMap = colors.ListedColormap([ 'red', 'pink', 'snow', 'lightblue','blue'])\n",
        "\n",
        "peru_distritos.plot(column='cluster',\n",
        "                categorical=True,\n",
        "                cmap=myColMap,\n",
        "                linewidth=0.1,\n",
        "                edgecolor='k',\n",
        "                legend=True,\n",
        "                legend_kwds={'bbox_to_anchor': (0.3, 0.3)},\n",
        "                figsize=(12,12))\n"
      ]
    },
    {
      "cell_type": "markdown",
      "id": "be3025f0",
      "metadata": {
        "id": "be3025f0"
      },
      "source": [
        "You find that a district is in a **quadrant**. If the district is NOT grey, then the LISA is significant. Let's represent that information in a map, using the lisaIDH object:"
      ]
    },
    {
      "cell_type": "markdown",
      "id": "ad08c195-9c11-4e38-925f-42aa620a8f9c",
      "metadata": {
        "id": "ad08c195-9c11-4e38-925f-42aa620a8f9c"
      },
      "source": [
        "The info in **lisaIDH.q** can not be used right away, we need to add if the local spatial correlation is significant:"
      ]
    },
    {
      "cell_type": "markdown",
      "id": "b0b86cd7-af02-4667-8cdc-adbcacf236c8",
      "metadata": {
        "id": "b0b86cd7-af02-4667-8cdc-adbcacf236c8"
      },
      "source": [
        "Now, we recode:"
      ]
    }
  ],
  "metadata": {
    "kernelspec": {
      "display_name": "Python 3 (ipykernel)",
      "language": "python",
      "name": "python3"
    },
    "language_info": {
      "codemirror_mode": {
        "name": "ipython",
        "version": 3
      },
      "file_extension": ".py",
      "mimetype": "text/x-python",
      "name": "python",
      "nbconvert_exporter": "python",
      "pygments_lexer": "ipython3",
      "version": "3.11.13"
    },
    "colab": {
      "provenance": [],
      "toc_visible": true
    }
  },
  "nbformat": 4,
  "nbformat_minor": 5
}