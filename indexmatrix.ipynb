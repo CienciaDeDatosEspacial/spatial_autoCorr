{
  "cells": [
    {
      "cell_type": "markdown",
      "id": "2921b8d1",
      "metadata": {
        "id": "2921b8d1"
      },
      "source": [
        "<center><img src=\"https://i.imgur.com/zRrFdsf.png\" width=\"700\"></center>\n",
        "\n",
        "\n",
        "\n",
        "\n",
        "\n",
        "\n",
        "# Neighboorhood and Spatial Correlation.\n",
        "\n"
      ]
    },
    {
      "cell_type": "markdown",
      "id": "470690cb-26d1-47f1-8538-af2af4c0821c",
      "metadata": {
        "id": "470690cb-26d1-47f1-8538-af2af4c0821c"
      },
      "source": [
        "## Getting ready\n"
      ]
    },
    {
      "cell_type": "markdown",
      "source": [
        "### Libraries needed\n",
        "\n",
        "Let's verify:"
      ],
      "metadata": {
        "id": "YMS4sKWblIST"
      },
      "id": "YMS4sKWblIST"
    },
    {
      "cell_type": "code",
      "source": [
        "!pip show pysal pandas geopandas"
      ],
      "metadata": {
        "id": "1zRAf4qulTUt"
      },
      "id": "1zRAf4qulTUt",
      "execution_count": null,
      "outputs": []
    },
    {
      "cell_type": "code",
      "source": [
        "## needed in Colab\n",
        "# !pip install pysal"
      ],
      "metadata": {
        "id": "5BWj7lOzlqM1"
      },
      "id": "5BWj7lOzlqM1",
      "execution_count": null,
      "outputs": []
    },
    {
      "cell_type": "markdown",
      "source": [
        "### Data to use\n",
        "\n",
        "Let me get two maps:\n",
        "\n",
        "1. The USA map, at states level,  directly from census.gov, which has a good quality."
      ],
      "metadata": {
        "id": "OP4EhKZClFKF"
      },
      "id": "OP4EhKZClFKF"
    },
    {
      "cell_type": "code",
      "execution_count": null,
      "id": "2baea660-3ad6-4552-b0ba-cfe857f55220",
      "metadata": {
        "id": "2baea660-3ad6-4552-b0ba-cfe857f55220"
      },
      "outputs": [],
      "source": [
        "import geopandas as gpd\n",
        "\n",
        "url = \"https://www2.census.gov/geo/tiger/GENZ2023/shp/cb_2023_us_state_500k.zip\"\n",
        "us_states = gpd.read_file(url)\n",
        "us_states.info(),us_states.crs.to_epsg(),us_states.crs.is_projected"
      ]
    },
    {
      "cell_type": "markdown",
      "id": "43e766ab-ae86-4bfb-b6d1-f1d5884c0192",
      "metadata": {
        "id": "43e766ab-ae86-4bfb-b6d1-f1d5884c0192"
      },
      "source": [
        "Notice this map has basic information per state. Also, notice the current crs will plot this:"
      ]
    },
    {
      "cell_type": "code",
      "execution_count": null,
      "id": "29efc27f-53be-4911-81de-5dcd1130c410",
      "metadata": {
        "id": "29efc27f-53be-4911-81de-5dcd1130c410"
      },
      "outputs": [],
      "source": [
        "us_states.plot()"
      ]
    },
    {
      "cell_type": "markdown",
      "id": "47f913d6-d84d-4d12-95b9-bf0ee3d774fc",
      "metadata": {
        "id": "47f913d6-d84d-4d12-95b9-bf0ee3d774fc"
      },
      "source": [
        "Let's reproject this map:"
      ]
    },
    {
      "cell_type": "code",
      "execution_count": null,
      "id": "fe787058-6364-4ac3-9f05-5fc730080492",
      "metadata": {
        "id": "fe787058-6364-4ac3-9f05-5fc730080492"
      },
      "outputs": [],
      "source": [
        "us_states=us_states.to_crs(5070)\n",
        "us_states.plot()"
      ]
    },
    {
      "cell_type": "markdown",
      "id": "7d083036-e08b-4a9c-8374-2901d7a0bbb6",
      "metadata": {
        "id": "7d083036-e08b-4a9c-8374-2901d7a0bbb6"
      },
      "source": [
        "Let's use the state name as index, that would help an easier identification of the places when we see most outputs (otherwise we will see just numerical indexes) :"
      ]
    },
    {
      "cell_type": "code",
      "execution_count": null,
      "id": "c9e9717e-b177-4067-ad74-199f4c545a39",
      "metadata": {
        "id": "c9e9717e-b177-4067-ad74-199f4c545a39"
      },
      "outputs": [],
      "source": [
        "us_states.set_index('NAME', inplace=True)\n",
        "us_states.head()"
      ]
    },
    {
      "cell_type": "markdown",
      "id": "5fb9fe21-0061-4298-94ed-29979fd622a4",
      "metadata": {
        "id": "5fb9fe21-0061-4298-94ed-29979fd622a4"
      },
      "source": [
        "Let's subset the us_states for some examples:"
      ]
    },
    {
      "cell_type": "code",
      "execution_count": null,
      "id": "8173f5cd-e780-46b8-b968-d5afe0f4ae65",
      "metadata": {
        "id": "8173f5cd-e780-46b8-b968-d5afe0f4ae65"
      },
      "outputs": [],
      "source": [
        "someStates=['Utah','Colorado','Arizona','New Mexico', 'Florida','Georgia','Alabama']\n",
        "sub_us=us_states[us_states.index.isin(someStates)]\n",
        "sub_us"
      ]
    },
    {
      "cell_type": "markdown",
      "id": "d80f45e1-eee0-4ad2-8be7-0de79874ff51",
      "metadata": {
        "id": "d80f45e1-eee0-4ad2-8be7-0de79874ff51"
      },
      "source": [
        "2. A map of Peru, at the 'distrito' level (similar to municipality in the USA - not exactly the same). The map comes from an unoffical [website](https://www.geogpsperu.com/p/descargas.html). Some columns have been added."
      ]
    },
    {
      "cell_type": "code",
      "execution_count": null,
      "id": "c54fa554-7aae-40c1-94a4-79bbc4bb9e73",
      "metadata": {
        "id": "c54fa554-7aae-40c1-94a4-79bbc4bb9e73"
      },
      "outputs": [],
      "source": [
        "peruDataLink=\"https://github.com/CienciaDeDatosEspacial/dataSets/raw/refs/heads/main/PERU/PeruMaps.gpkg\"\n",
        "peru_distritos=gpd.read_file(peruDataLink,layer='distritos')\n",
        "\n",
        "# some basic info\n",
        "peru_distritos.info(),peru_distritos.crs.to_epsg(),peru_distritos.crs.is_projected"
      ]
    },
    {
      "cell_type": "markdown",
      "id": "ab6620bb-868f-483b-affe-3651b605242c",
      "metadata": {
        "id": "ab6620bb-868f-483b-affe-3651b605242c"
      },
      "source": [
        "Let's reproject and plot:"
      ]
    },
    {
      "cell_type": "code",
      "execution_count": null,
      "id": "cbc32e48-142a-4c67-9402-dbfb92789025",
      "metadata": {
        "id": "cbc32e48-142a-4c67-9402-dbfb92789025"
      },
      "outputs": [],
      "source": [
        "peru_distritos=peru_distritos.to_crs(5387)\n",
        "peru_distritos.plot()"
      ]
    },
    {
      "cell_type": "markdown",
      "id": "77e93d34-ec00-41ef-8c03-a6d34cd4b735",
      "metadata": {
        "id": "77e93d34-ec00-41ef-8c03-a6d34cd4b735"
      },
      "source": [
        "Besides the spatial units (DEPARTAMEN, PROVINCIA, DISTRITO, and Ubigeo - \"Ubigeo\" is a code ), you have:\n",
        " - **Poblacion**: Population (2017)\n",
        " - **Superficie**: Area               \n",
        " - **IDH2019**: Human Development Index for DISTRITO (2019)                   \n",
        " - **Educ_sec_comp2019_pct**: Share of Population that finished High-School (2019)     \n",
        " - **NBI2017_pct**: Share of Population with poverty at the household level aggregated by DISTRITO. This index (\"Unsatisfied Basic Needs\") uses observable living conditions rather than income alone (2017).\n",
        " - **Viv_sin_serv_hig2017_pct**: Share of housing units that have no sanitation infrastructure aggregated by  DISTRITO (2017)\n",
        "\n",
        "Notice we should not use the 'distrito' name as index, because several of them are repeated:"
      ]
    },
    {
      "cell_type": "code",
      "execution_count": null,
      "id": "f1650da2-d70f-4e81-93b6-e68dddea2ba1",
      "metadata": {
        "id": "f1650da2-d70f-4e81-93b6-e68dddea2ba1"
      },
      "outputs": [],
      "source": [
        "peru_distritos[peru_distritos['DISTRITO'].duplicated()]"
      ]
    },
    {
      "cell_type": "markdown",
      "id": "f9646ccb-cc50-4c6b-8a41-0b2e3ce79221",
      "metadata": {
        "id": "f9646ccb-cc50-4c6b-8a41-0b2e3ce79221"
      },
      "source": [
        "Let's use 'Ubigeo', although is not the best solution"
      ]
    },
    {
      "cell_type": "code",
      "execution_count": null,
      "id": "a1861a45-87f3-4166-9a23-84b8d554c71a",
      "metadata": {
        "id": "a1861a45-87f3-4166-9a23-84b8d554c71a"
      },
      "outputs": [],
      "source": [
        "# of course\n",
        "peru_distritos[peru_distritos['Ubigeo'].duplicated()]"
      ]
    },
    {
      "cell_type": "code",
      "execution_count": null,
      "id": "7ab06ac1-836d-4e88-b839-fe40985260e6",
      "metadata": {
        "id": "7ab06ac1-836d-4e88-b839-fe40985260e6"
      },
      "outputs": [],
      "source": [
        "#then\n",
        "peru_distritos.set_index('Ubigeo', inplace=True)"
      ]
    },
    {
      "cell_type": "markdown",
      "id": "39cb95fc-6418-482e-8e44-46c0dfddcb76",
      "metadata": {
        "id": "39cb95fc-6418-482e-8e44-46c0dfddcb76"
      },
      "source": [
        "## I. Who is my neighbor?\n",
        "\n",
        "In spatial analysis, the intuitive concept of a “neighbor” can be operationalized in multiple ways.\n",
        "\n",
        "So far, we have identified neighbors using geometric operations such as buffering, spatial joins, and overlays. Now, let’s consider the distance matrix:\n"
      ]
    },
    {
      "cell_type": "code",
      "execution_count": null,
      "id": "848f793e-7aee-4352-a1bc-3851d6af4f71",
      "metadata": {
        "id": "848f793e-7aee-4352-a1bc-3851d6af4f71"
      },
      "outputs": [],
      "source": [
        "sub_us.geometry.apply\\\n",
        "(lambda state: sub_us.distance(state)/1000)"
      ]
    },
    {
      "cell_type": "code",
      "source": [
        "sub_us.explore(zoom_start=6)"
      ],
      "metadata": {
        "id": "ySb63caGmhkH"
      },
      "id": "ySb63caGmhkH",
      "execution_count": null,
      "outputs": []
    },
    {
      "cell_type": "markdown",
      "id": "51462dcd-b6e7-4942-aaab-2cb6bb095243",
      "metadata": {
        "id": "51462dcd-b6e7-4942-aaab-2cb6bb095243"
      },
      "source": [
        "From this matrix and plot, you’ll notice that neighboring features have a distance of zero—this occurs when two polygons share a boundary (i.e., they are contiguous). This observation helps illustrate the different approaches to defining neighbors:\n",
        "\n",
        "1. Binary Relationships:\n",
        "\n",
        "* Contiguity: Two polygons are considered neighbors if they share any portion of their boundary—whether at a point, along a line segment, or more extensively. In the distance matrix, such pairs show a distance of zero, reflecting direct spatial adjacency.\n",
        "* Ranked Proximity: In this approach, assume there each node has ranked all the other potential neighbors by their mutual distance. Then, you request K neighbors, and you get the K closest ones to you from that ranking.\n",
        "\n",
        "* Band Proximity: In this approach, you accept as neighbors the one that are within a threshold distance.\n",
        "\n",
        "\n",
        "2. Continuous Relationships\n",
        "\n",
        "* Proximity: Two features are considered neighbors if the distance between them falls below a specified threshold (e.g., within 100 km). This approach is especially useful for point data or non-contiguous regions.\n",
        "* Shared Border Length: The strength of the neighbor relationship is weighted by the length of the shared boundary. Longer shared borders imply stronger spatial interaction—a common assumption in models of spatial diffusion or economic spillovers.\n",
        "\n",
        "Using matrices—rather than raw geometries—is essential for the mathematical representation and numerical computation required in upcoming spatial analytics techniques.\n",
        "\n",
        "PySAL (libpysal) is designed to handle spatial relationship matrices and integrates seamlessly with GeoPandas. Rather than relying solely on matrices, modern PySAL uses graph-based representations of spatial relationships. This approach is not only more memory-efficient but also speeds up computation and simplifies visualization—especially for large or sparse spatial datasets.  A key concept in these graphs is the distinction between:\n",
        "\n",
        "- Focal unit: the spatial feature (e.g., a state, county, or census tract) for which we are identifying neighbors.\n",
        "- Neighbor(s): the other spatial units that are considered related to the focal unit based on a chosen criterion (e.g., contiguity, distance, or shared border length).\n",
        "\n",
        "Let’s become familiar with the ```graph``` module in PySAL/libpysal, which provides a modern and flexible framework for constructing and working with spatial neighbor graphs.\n"
      ]
    },
    {
      "cell_type": "code",
      "execution_count": null,
      "id": "bf7fde32-a3a3-4a36-8466-58ccb64709be",
      "metadata": {
        "id": "bf7fde32-a3a3-4a36-8466-58ccb64709be"
      },
      "outputs": [],
      "source": [
        "from libpysal.graph import Graph"
      ]
    },
    {
      "cell_type": "markdown",
      "source": [
        "### I. Binary matrices"
      ],
      "metadata": {
        "id": "DIydrpsNJZXm"
      },
      "id": "DIydrpsNJZXm"
    },
    {
      "cell_type": "markdown",
      "id": "395eab0a-10b6-4bd6-82d4-fd032ceb2ad6",
      "metadata": {
        "id": "395eab0a-10b6-4bd6-82d4-fd032ceb2ad6"
      },
      "source": [
        "#### I. 1 Contiguity and Binary matrices\n",
        "\n",
        "Take a look at the **queen** and **rook** relationship:\n",
        "\n",
        "<center><img src=\"https://github.com/CienciaDeDatosEspacial/spatial_autoCorr/raw/main/rookQueen.png\" width=\"700\"></center>\n",
        "\n",
        "From the image above:\n",
        "- Your **rook** neighbor is whichever  shares a border with you (a borderline of at least two points). It is also known as the _Von Neumann_ neighbor.\n",
        "\n",
        "- Your **queen** neighbor is whichever  shares a border or a corner with you (at least one point).It is also known as the _Moore_ neighbor.\n",
        "\n",
        "Let's see how to get each set of neighbors"
      ]
    },
    {
      "cell_type": "markdown",
      "id": "399cab80-6684-46c1-a67b-ea403a15c491",
      "metadata": {
        "id": "399cab80-6684-46c1-a67b-ea403a15c491"
      },
      "source": [
        "##### I.1.a Rook\n",
        "\n",
        "* The key idea: A focal polygon considers another polygon a neighbor if they share a common edge—that is, two or more connected points forming a line segment of positive length.\n",
        "* The input: A GeoDataFrame (GDF) containing polygon geometries (e.g., states, counties, census tracts). Each row represents a spatial unit that can serve as a focal observation.\n",
        "* The process: For each polygon (focal unit), the algorithm checks all other polygons to determine whether their boundaries intersect along a line segment (not just at a point).\n",
        "* The output: A graph built from a binary adjacency matrix where each node represents a polygon (focal unit). An edge exists between two nodes only if they share a boundary segment. The corresponding adjacency matrix is binary.\n",
        "\n",
        "Given our input for the examples is **sub_us**, let's run..."
      ]
    },
    {
      "cell_type": "code",
      "execution_count": null,
      "id": "2918ee83-ea31-4553-b722-95a0c91278a3",
      "metadata": {
        "id": "2918ee83-ea31-4553-b722-95a0c91278a3"
      },
      "outputs": [],
      "source": [
        "sub_us_rook=Graph.build_contiguity(sub_us,rook=True)"
      ]
    },
    {
      "cell_type": "markdown",
      "source": [
        "Now let's check the ouput:\n",
        "\n",
        "**a. adjacency**"
      ],
      "metadata": {
        "id": "udc7WTHroK-b"
      },
      "id": "udc7WTHroK-b"
    },
    {
      "cell_type": "code",
      "execution_count": null,
      "id": "264cb54c-7d65-4907-960d-ac9781a509cf",
      "metadata": {
        "id": "264cb54c-7d65-4907-960d-ac9781a509cf"
      },
      "outputs": [],
      "source": [
        "sub_us_rook.adjacency"
      ]
    },
    {
      "cell_type": "markdown",
      "source": [
        "The previous results shows only the neighbors of the focals, to recreate a wide format:"
      ],
      "metadata": {
        "id": "jvCFSF6GpueP"
      },
      "id": "jvCFSF6GpueP"
    },
    {
      "cell_type": "code",
      "source": [
        "import pandas as pd\n",
        "pd.DataFrame(sub_us_rook.adjacency).unstack()"
      ],
      "metadata": {
        "id": "wz7Ioii6qSLJ"
      },
      "id": "wz7Ioii6qSLJ",
      "execution_count": null,
      "outputs": []
    },
    {
      "cell_type": "markdown",
      "source": [
        "We generally fill those missing values (not a neighbor) with zero."
      ],
      "metadata": {
        "id": "GdaBEdesqrdg"
      },
      "id": "GdaBEdesqrdg"
    },
    {
      "cell_type": "code",
      "execution_count": null,
      "id": "85d9b241-eb01-459c-9d59-88528daca842",
      "metadata": {
        "id": "85d9b241-eb01-459c-9d59-88528daca842"
      },
      "outputs": [],
      "source": [
        "sub_us_rook_Matrix=pd.DataFrame(sub_us_rook.adjacency).unstack().fillna(0)\n",
        "sub_us_rook_Matrix"
      ]
    },
    {
      "cell_type": "markdown",
      "source": [
        "**b. adjacency graph**"
      ],
      "metadata": {
        "id": "sWSUGn-VuoCq"
      },
      "id": "sWSUGn-VuoCq"
    },
    {
      "cell_type": "markdown",
      "source": [
        "As we have a `GRAPH`, we can identify these neighborhood relationships via edges:"
      ],
      "metadata": {
        "id": "vWP2IkD7q4RY"
      },
      "id": "vWP2IkD7q4RY"
    },
    {
      "cell_type": "code",
      "execution_count": null,
      "id": "5bf6b93d-1c2d-4b4c-ab3c-a2998437ddc3",
      "metadata": {
        "id": "5bf6b93d-1c2d-4b4c-ab3c-a2998437ddc3"
      },
      "outputs": [],
      "source": [
        "sub_us_rook.explore(sub_us,node_kws=dict(color='red'), edge_kws=dict(alpha=0.4,color='blue'),zoom_start = 6)"
      ]
    },
    {
      "cell_type": "markdown",
      "metadata": {
        "id": "97d681e9"
      },
      "source": [
        "##### I.1.b Queen\n",
        "\n",
        "* The key idea: A focal polygon considers another polygon a neighbor if they share a common edge or a vertex (at least one point).\n",
        "* The input: A GeoDataFrame (GDF) containing polygon geometries (e.g., states, counties, census tracts). Each row represents a spatial unit that can serve as a focal observation.\n",
        "* The process: For each polygon (focal unit), the algorithm checks all other polygons to determine whether their boundaries intersect at any point or along a line segment.\n",
        "* The output: A graph built from a binary adjacency matrix where each node represents a polygon (focal unit). An edge exists between two nodes only if they share a point or boundary segment. The corresponding adjacency matrix is binary.\n",
        "\n",
        "Let's see what we get:"
      ],
      "id": "97d681e9"
    },
    {
      "cell_type": "code",
      "execution_count": null,
      "id": "95e1531a-73ba-492c-989b-a9273dcba81d",
      "metadata": {
        "id": "95e1531a-73ba-492c-989b-a9273dcba81d"
      },
      "outputs": [],
      "source": [
        "# first\n",
        "sub_us_queen=Graph.build_contiguity(sub_us,rook=False)"
      ]
    },
    {
      "cell_type": "markdown",
      "source": [
        "**a. adjacency matrix**"
      ],
      "metadata": {
        "id": "Cupu2-MeugeR"
      },
      "id": "Cupu2-MeugeR"
    },
    {
      "cell_type": "code",
      "execution_count": null,
      "id": "ec8e8b63-0600-42ca-a722-e5a9202809c3",
      "metadata": {
        "id": "ec8e8b63-0600-42ca-a722-e5a9202809c3"
      },
      "outputs": [],
      "source": [
        "sub_us_queen_Matrix=pd.DataFrame(sub_us_queen.adjacency).unstack().fillna(0)\n",
        "sub_us_queen_Matrix"
      ]
    },
    {
      "cell_type": "markdown",
      "source": [
        "**b. adjacency plot**"
      ],
      "metadata": {
        "id": "g1mzzuDpDwM6"
      },
      "id": "g1mzzuDpDwM6"
    },
    {
      "cell_type": "code",
      "execution_count": null,
      "id": "798e3c5a-9e9e-422e-b75d-b81187dc27b6",
      "metadata": {
        "id": "798e3c5a-9e9e-422e-b75d-b81187dc27b6"
      },
      "outputs": [],
      "source": [
        "sub_us_queen.explore(sub_us,node_kws=dict(color='red'), edge_kws=dict(alpha=0.4,color='blue'),zoom_start = 6)\n",
        "\n"
      ]
    },
    {
      "cell_type": "markdown",
      "id": "5f0485c0-2d60-418c-9fdc-33289d85b744",
      "metadata": {
        "id": "5f0485c0-2d60-418c-9fdc-33289d85b744"
      },
      "source": [
        "\n",
        "#### I. 2 Ranked  proximity and Binary matrices: KNN\n",
        "\n",
        "* The key idea: A focal polygon considers another polygon a neighbor if that second polygon is among the K closest polygons to the focal polygon, where “closeness” is measured by the distance between their geometric centroids (or any other user-supplied distance metric).  \n",
        "* The input: A GeoDataFrame (GDF) containing polygon geometries. Each row represents a spatial unit that can serve as a focal observation.  \n",
        "* The process: For each polygon (focal unit), the algorithm (1) computes the distance between its centroid and every other centroid, (2) ranks these distances, and (3) flags the K smallest distances as neighbors. Ties can be broken by random selection, ID order, or by including all tied candidates.  \n",
        "* The output: A graph built from a binary adjacency matrix where each node represents a polygon (focal unit). An edge exists between two nodes whenever one polygon is among the K nearest neighbors of the other. The corresponding adjacency matrix is binary and, by construction, typically asymmetric unless a symmetric constraint is explicitly enforced.\n",
        "\n",
        "If assume K is 3:\n",
        "\n",
        "**a. adjacency matrix**"
      ]
    },
    {
      "cell_type": "code",
      "execution_count": null,
      "id": "4cb4b861-9a56-4809-817a-507975a08b5d",
      "metadata": {
        "id": "4cb4b861-9a56-4809-817a-507975a08b5d"
      },
      "outputs": [],
      "source": [
        "sub_us_knn3 = Graph.build_knn(sub_us.representative_point(), # GDF\n",
        "                                 k=3) # desired k\n",
        "\n",
        "sub_us_knn3_Matrix=pd.DataFrame(sub_us_knn3.adjacency).unstack().fillna(0)\n",
        "sub_us_knn3_Matrix"
      ]
    },
    {
      "cell_type": "markdown",
      "source": [
        "**b. adjacency plot**"
      ],
      "metadata": {
        "id": "LOA5XMT5D0Ag"
      },
      "id": "LOA5XMT5D0Ag"
    },
    {
      "cell_type": "code",
      "execution_count": null,
      "id": "6ab9a403-d963-4381-bb7d-90e4e7550f2f",
      "metadata": {
        "id": "6ab9a403-d963-4381-bb7d-90e4e7550f2f"
      },
      "outputs": [],
      "source": [
        "sub_us_knn3.explore(sub_us, edge_kws=dict(alpha=0.4),zoom_start = 6)"
      ]
    },
    {
      "cell_type": "markdown",
      "id": "09bed2ee-3d03-4ff0-94bd-d827167ef5ea",
      "metadata": {
        "id": "09bed2ee-3d03-4ff0-94bd-d827167ef5ea"
      },
      "source": [
        "#### I. 3 Band-based  proximity and Binary matrices:\n",
        "\n",
        "\n",
        "* The key idea: A focal polygon considers another polygon a neighbor if the distance between them (usually centroid-to-centroid , or a pair of representative point) lies within a user-defined band.\n",
        "* The input: A GeoDataFrame (GDF) containing polygon geometries for which a representative point is supplied. Each row represents a spatial unit that can serve as a focal observation, plus (optionally) an attribute column to use as a weight or ID.  \n",
        "* The process: For each polygon (focal unit) the algorithm computes the distance to every other polygon and flags those whose distance falls inside the specified band.\n",
        "* The output: A binary spatial graph (or adjacency structure) where each node represents a polygon. An edge exists between two nodes only if their mutual distance sits inside the chosen band. The corresponding adjacency matrix is binary and symmetric by construction.\n",
        "\n",
        "Let's assume a 750 km distance band:"
      ]
    },
    {
      "cell_type": "code",
      "execution_count": null,
      "id": "2f9f115c-ff41-4089-b7cd-a4ffd1526365",
      "metadata": {
        "id": "2f9f115c-ff41-4089-b7cd-a4ffd1526365"
      },
      "outputs": [],
      "source": [
        "sub_us_band750k_Bi=Graph.build_distance_band(sub_us.representative_point(), threshold=750000)\n",
        "\n",
        "sub_us_band750k_Bi_Matrix=pd.DataFrame(sub_us_band750k_Bi.adjacency).unstack().fillna(0)\n",
        "sub_us_band750k_Bi_Matrix"
      ]
    },
    {
      "cell_type": "code",
      "execution_count": null,
      "id": "17c2d531-895e-4e5f-a7e6-f90deceb3172",
      "metadata": {
        "id": "17c2d531-895e-4e5f-a7e6-f90deceb3172"
      },
      "outputs": [],
      "source": [
        "sub_us_band750k_Bi.explore(sub_us, edge_kws=dict(alpha=0.4), zoom_start=6)"
      ]
    },
    {
      "cell_type": "markdown",
      "source": [
        "### II. Continuous Matrixes"
      ],
      "metadata": {
        "id": "wvFbxx2nPUFJ"
      },
      "id": "wvFbxx2nPUFJ"
    },
    {
      "cell_type": "markdown",
      "id": "4601efd1-1cda-431b-93ab-965c70e21768",
      "metadata": {
        "id": "4601efd1-1cda-431b-93ab-965c70e21768"
      },
      "source": [
        "#### II. 1 Continuos Distance band-based Proximity\n",
        "\n",
        "* The key idea: A focal polygon considers another polygon a neighbor if the distance between them (usually centroid-to-centroid , or a pair of representative point) lies within a user-defined band.\n",
        "* The input: A GeoDataFrame (GDF) containing polygon geometries for which a representative point is supplied. Each row represents a spatial unit that can serve as a focal observation, plus (optionally) an attribute column to use as a weight or ID.  \n",
        "* The process: For each polygon (focal unit) the algorithm computes the distance to every other polygon and flags those whose distance falls inside the specified band.\n",
        "* **The output**: a graph where each node has edges to all nodes ('neighbors') whose representative points lie within the radius. Edges are represented by a continuous adjacency matrix, the default values represent the inverse distance between the nodes in the edges.\n",
        "\n",
        "Here it is:"
      ]
    },
    {
      "cell_type": "code",
      "execution_count": null,
      "id": "6ed3ac49-18ec-41ca-8317-8c7dc1cb6cdf",
      "metadata": {
        "id": "6ed3ac49-18ec-41ca-8317-8c7dc1cb6cdf"
      },
      "outputs": [],
      "source": [
        "sub_us_band750k_C=Graph.build_distance_band(sub_us.representative_point(), threshold=750000,binary=False)\n",
        "sub_us_band750k_C_Matrix=pd.DataFrame(sub_us_band750k_C.adjacency).unstack().fillna(0)\n",
        "sub_us_band750k_C_Matrix\n"
      ]
    },
    {
      "cell_type": "code",
      "execution_count": null,
      "id": "7106e949-464c-4fd4-9cf4-302dd886ece3",
      "metadata": {
        "id": "7106e949-464c-4fd4-9cf4-302dd886ece3"
      },
      "outputs": [],
      "source": [
        "sub_us_band750k_C.explore(\n",
        "        sub_us, edge_kws=dict(alpha=0.4)\n",
        "    )"
      ]
    },
    {
      "cell_type": "markdown",
      "source": [
        "#### II.2 Kernel K-Nearest Neighbors (KNN)\n",
        "\n",
        "* The key idea: Each polygon keeps only its K closest buddies, but instead of a blunt 0 / 1 the tie is a gentle “friendliness” score that shrinks with distance.  \n",
        "* The input: A GeoDataFrame of polygons + their representative points.  \n",
        "* The process:  \n",
        "  – Find the K nearest points.  \n",
        "  – Turn distance into a Gaussian bell value (big when close, small when far).  \n",
        "\n",
        "* The output: A weighted graph where every node has exactly K neighbours carrying continuous “soft” weights; no islands, no huge clumps, just K tidy friendship levels per row.\n",
        "\n",
        "Let's use K = 3 again:"
      ],
      "metadata": {
        "id": "q7-L1coQPKU7"
      },
      "id": "q7-L1coQPKU7"
    },
    {
      "cell_type": "code",
      "execution_count": null,
      "id": "06975cc3-dd0d-458c-8dec-4c3dc0b3281d",
      "metadata": {
        "id": "06975cc3-dd0d-458c-8dec-4c3dc0b3281d"
      },
      "outputs": [],
      "source": [
        "sub_us_kernel3 = Graph.build_kernel(sub_us.representative_point(), k=3)\n",
        "sub_us_kernel3_Matrix=pd.DataFrame(sub_us_kernel3.adjacency).unstack().fillna(0)\n",
        "sub_us_kernel3_Matrix"
      ]
    },
    {
      "cell_type": "markdown",
      "source": [
        "Notice we have bigger values that the continuous band-based result. Let's use thos values to color the edges (the darker the further):"
      ],
      "metadata": {
        "id": "QVG1zfsAPq-A"
      },
      "id": "QVG1zfsAPq-A"
    },
    {
      "cell_type": "code",
      "execution_count": null,
      "id": "d068ab4c-beef-4a31-b764-e4d8e9702b9b",
      "metadata": {
        "scrolled": true,
        "id": "d068ab4c-beef-4a31-b764-e4d8e9702b9b"
      },
      "outputs": [],
      "source": [
        "sub_us_kernel3.explore(\n",
        "        sub_us, edge_kws=dict(column=\"weight\",\n",
        "        style_kwds=dict(weight=6)    )\n",
        "    )"
      ]
    },
    {
      "cell_type": "markdown",
      "source": [
        "#### II. 3 Permiter-based Proximity\n",
        "\n",
        "\n",
        "* **The key idea**: A focal polygon treats another polygon as a neighbour only if the two share a common border.  \n",
        "* **The input**: A GeoDataFrame of polygons; no extra points needed.  \n",
        "* **The process**:  \n",
        "  – Compute the exact length of every shared boundary segment.  \n",
        "  – Set w_ij = shared_perimeter_ij (zero if no border).  \n",
        "  \n",
        "* **The output**: A weighted graph encoded in a sparse weights matrix; each non-zero entry is the **metres (or map-units) of shared border**, giving large, jagged polygons more influence over their neighbours than small, compact ones."
      ],
      "metadata": {
        "id": "agKdHtzKPpZn"
      },
      "id": "agKdHtzKPpZn"
    },
    {
      "cell_type": "code",
      "execution_count": null,
      "id": "b3d13b0c-37bc-4f3d-a8ba-1cd80ebbdb89",
      "metadata": {
        "id": "b3d13b0c-37bc-4f3d-a8ba-1cd80ebbdb89"
      },
      "outputs": [],
      "source": [
        "sub_us_perimeter = Graph.build_contiguity(sub_us, by_perimeter=True)\n",
        "sub_us_perimeter_Matrix=pd.DataFrame(sub_us_perimeter.adjacency).unstack().fillna(0)\n",
        "sub_us_perimeter_Matrix\n"
      ]
    },
    {
      "cell_type": "code",
      "execution_count": null,
      "id": "a7ebda32-ffcd-4928-bc2d-b55c301fc60d",
      "metadata": {
        "id": "a7ebda32-ffcd-4928-bc2d-b55c301fc60d"
      },
      "outputs": [],
      "source": [
        "sub_us_perimeter.explore(\n",
        "        sub_us, edge_kws=dict(column=\"weight\",\n",
        "        style_kwds=dict(weight=5)    )\n",
        "    )"
      ]
    },
    {
      "cell_type": "markdown",
      "source": [
        "In summary:\n",
        "\n",
        "| Technique | Pros | Cons | Typical use-case example |\n",
        "|-----------|------|------|--------------------------|\n",
        "| **Rook / Queen contiguity** | Simple, law- or admin-based, no distance parameter | Islands get 0 neighbours; ignores “near but not touching” units | State-to-state policy diffusion, local tax spill-overs |\n",
        "| **K-NN (binary)** | Guarantees every unit has same #neighbours; no islands | Can link far-away units in sparse areas; ignores true borders | Comparative politics with same-size legislatures, small-N samples |\n",
        "| **Distance band (binary)** | Hard cap on geographic reach; easy to interpret radius | Sparse → islands; dense → huge cliques; radius must be tuned | Housing-price spill-overs within 30 km commuting range |\n",
        "| **Continuous distance-band** | Smooth weights, still respects max range | Same radius-tuning and island issues as binary band | Environmental exposure declining with distance, gravity models |\n",
        "| **Kernel K-NN** | Fixed neighbour count, adaptive bandwidth, no islands | Far neighbours possible in deserts/oceans; parameter k to pick | Spatial error regression on counties, GWR, ML feature smoothing |\n",
        "| **Perimeter-weighted contiguity** | Uses real boundary, good for irregular shapes | Needs clean topology; computation heavier | Ecological edge effects, river-basin pollution, crop pest spread |"
      ],
      "metadata": {
        "id": "WmQuAxGXR6mY"
      },
      "id": "WmQuAxGXR6mY"
    },
    {
      "cell_type": "markdown",
      "source": [
        "## II. From neighborhood to weights\n",
        "\n",
        "Our matrices tell us which are neighbors, and some give us additional information related to the 'farness' of the identified neighbor. Let me compute the marginal values by row (sum):"
      ],
      "metadata": {
        "id": "8ZGks3KEQ0Qh"
      },
      "id": "8ZGks3KEQ0Qh"
    },
    {
      "cell_type": "code",
      "source": [
        "allMx=[sub_us_rook_Matrix.sum(axis=1),\n",
        "       sub_us_queen_Matrix.sum(axis=1),\n",
        "       sub_us_knn3_Matrix.sum(axis=1),\n",
        "       sub_us_band750k_Bi_Matrix.sum(axis=1),\n",
        "       sub_us_band750k_C_Matrix.sum(axis=1),\n",
        "       sub_us_kernel3_Matrix.sum(axis=1),\n",
        "       sub_us_perimeter_Matrix.sum(axis=1)]\n",
        "pd.concat(allMx,axis=1)"
      ],
      "metadata": {
        "id": "Rq7_XQEUT-uQ"
      },
      "id": "Rq7_XQEUT-uQ",
      "execution_count": null,
      "outputs": []
    },
    {
      "cell_type": "markdown",
      "source": [
        "We know that no-neighbors have value zero in the matrix. Then, non-zero (binary or non-binary) values carries some weight .\n",
        "However, they are currently not normalized (they do not add to 1 by row), which may complicate further computations.\n",
        "\n",
        "For example, having this unnormalized matrix:"
      ],
      "metadata": {
        "id": "U4nKn5k5W9uT"
      },
      "id": "U4nKn5k5W9uT"
    },
    {
      "cell_type": "code",
      "source": [
        "sub_us_queen_Matrix"
      ],
      "metadata": {
        "id": "ekZw_VQ3ia88"
      },
      "id": "ekZw_VQ3ia88",
      "execution_count": null,
      "outputs": []
    },
    {
      "cell_type": "code",
      "source": [
        "sub_us_queen.transform(\"r\").adjacency.unstack().fillna(0)\n"
      ],
      "metadata": {
        "id": "n_TlcFWrimR_"
      },
      "id": "n_TlcFWrimR_",
      "execution_count": null,
      "outputs": []
    },
    {
      "cell_type": "code",
      "source": [
        "sub_us_perimeter_Matrix"
      ],
      "metadata": {
        "id": "kW60_J5djClm"
      },
      "id": "kW60_J5djClm",
      "execution_count": null,
      "outputs": []
    },
    {
      "cell_type": "code",
      "source": [
        "sub_us_perimeter.transform(\"r\").adjacency.unstack().fillna(0)"
      ],
      "metadata": {
        "id": "iN2ASP3pjElQ"
      },
      "id": "iN2ASP3pjElQ",
      "execution_count": null,
      "outputs": []
    },
    {
      "cell_type": "markdown",
      "source": [
        "These new row-standardized matrices will serve a greater purpose: the computing of spatial lags."
      ],
      "metadata": {
        "id": "1AhZ37CbjZTL"
      },
      "id": "1AhZ37CbjZTL"
    },
    {
      "cell_type": "markdown",
      "id": "d22477a5",
      "metadata": {
        "id": "d22477a5"
      },
      "source": [
        "## III. Spatial Lag: Is my situation independent from my neighbors?\n",
        "\n",
        "This is a crucial moment is statistics: traditionally, we assume our situation is independent of others'; so sampling may reveal unbiased  population insights. But, what if neigbors are affecting one another.\n",
        "\n",
        "Of course, by situation we mean a variable, for example, average HS completed in my 'distrito':"
      ]
    },
    {
      "cell_type": "code",
      "execution_count": null,
      "id": "55ca0cc1-f501-434d-9cce-4e5b9def0738",
      "metadata": {
        "id": "55ca0cc1-f501-434d-9cce-4e5b9def0738"
      },
      "outputs": [],
      "source": [
        "peru_distritos.Educ_sec_comp2019_pct.describe()"
      ]
    },
    {
      "cell_type": "markdown",
      "id": "b4b09812-48f9-4b30-ae5a-07101f35e8e7",
      "metadata": {
        "id": "b4b09812-48f9-4b30-ae5a-07101f35e8e7"
      },
      "source": [
        "See the choropleth:"
      ]
    },
    {
      "cell_type": "code",
      "execution_count": null,
      "id": "c7cc615c-38de-405c-8d68-537934933d70",
      "metadata": {
        "id": "c7cc615c-38de-405c-8d68-537934933d70"
      },
      "outputs": [],
      "source": [
        "peru_distritos.plot(\n",
        "    \"Educ_sec_comp2019_pct\",\n",
        "    scheme=\"quantiles\",\n",
        "    cmap=\"Reds_r\",\n",
        "    legend=True,figsize=(12, 10))"
      ]
    },
    {
      "cell_type": "markdown",
      "id": "a18ded1c-74d8-417e-be1b-b57bd747878b",
      "metadata": {
        "id": "a18ded1c-74d8-417e-be1b-b57bd747878b"
      },
      "source": [
        "Traditionally we treat each distrito as an isolated coin-flip:  \n",
        "*“If I randomly sample 10 % of them, the average HS-completed I compute is an unbiased picture of the whole country.”*\n",
        "\n",
        "But what if the share of adults who finished high school in **my** distrito is **pushed up or down by the share already existing next door**?  \n",
        "Then the coin-flips are **not independent**—they are **spatially autocorrelated**—and ignoring that:\n",
        "\n",
        "- inflates t-values (false precision)  \n",
        "- masks hidden variables that spill over borders  \n",
        "- makes policy impact look local when it is really regional  \n",
        "\n",
        "The spatial lag is the **simplest diagnostic**:  \n",
        "\n",
        "```\n",
        "lag_HS_i = Σⱼ w_ij HS_j      with Σⱼ w_ij = 1\n",
        "```\n",
        "\n"
      ]
    },
    {
      "cell_type": "markdown",
      "id": "c137a5f9-4510-4866-949c-495785df72b2",
      "metadata": {
        "id": "c137a5f9-4510-4866-949c-495785df72b2"
      },
      "source": [
        "You can compute the adjacency with the weights now:"
      ]
    },
    {
      "cell_type": "code",
      "execution_count": null,
      "id": "7405b662-155e-43d0-a617-bfd917ea66b6",
      "metadata": {
        "id": "7405b662-155e-43d0-a617-bfd917ea66b6"
      },
      "outputs": [],
      "source": [
        "peru_distritos_queen=Graph.build_contiguity(peru_distritos,rook=False)\n",
        "peru_distritos_queen=peru_distritos_queen.transform(\"r\")"
      ]
    },
    {
      "cell_type": "code",
      "source": [
        "y = peru_distritos[\"Educ_sec_comp2019_pct\"]\n",
        "ylag = peru_distritos_queen.lag(y)"
      ],
      "metadata": {
        "id": "bmkQOZa7k6dM"
      },
      "id": "bmkQOZa7k6dM",
      "execution_count": null,
      "outputs": []
    },
    {
      "cell_type": "markdown",
      "id": "597b22c2-58d8-4db9-81f1-e3d9f267d614",
      "metadata": {
        "id": "597b22c2-58d8-4db9-81f1-e3d9f267d614"
      },
      "source": [
        "It is the **average HS-completed in distrito i’s neighbourhood**.  \n",
        "Plot lag_HS against own_HS:\n",
        "\n",
        "- Scatter hugs the 45° line → **strong positive spatial dependence** (high-high, low-low clusters).  \n",
        "- Cloud is circular → **approximate independence**, classical i.i.d. assumption holds.\n",
        "\n"
      ]
    },
    {
      "cell_type": "code",
      "execution_count": null,
      "id": "4f43cc26-4b3b-41ce-afd3-f5f71aafae8f",
      "metadata": {
        "id": "4f43cc26-4b3b-41ce-afd3-f5f71aafae8f"
      },
      "outputs": [],
      "source": []
    },
    {
      "cell_type": "markdown",
      "id": "93d6e437-858b-498f-9573-f66f326db850",
      "metadata": {
        "id": "93d6e437-858b-498f-9573-f66f326db850"
      },
      "source": [
        "Let me add it to the GDF:"
      ]
    },
    {
      "cell_type": "code",
      "execution_count": null,
      "id": "410846ee-669e-4854-8d27-97377b39ec5f",
      "metadata": {
        "id": "410846ee-669e-4854-8d27-97377b39ec5f"
      },
      "outputs": [],
      "source": [
        "peru_distritos=peru_distritos.assign(Educ_sec_comp2019_pct_lagged=ylag)"
      ]
    },
    {
      "cell_type": "markdown",
      "id": "f2c8ec24-1436-4301-a2bf-fdf056ab4adb",
      "metadata": {
        "id": "f2c8ec24-1436-4301-a2bf-fdf056ab4adb"
      },
      "source": [
        "Plot both to compare:"
      ]
    },
    {
      "cell_type": "code",
      "execution_count": null,
      "id": "a864244b-efd7-49f8-84d2-4e13d168a731",
      "metadata": {
        "id": "a864244b-efd7-49f8-84d2-4e13d168a731"
      },
      "outputs": [],
      "source": [
        "import matplotlib.pyplot as plt\n",
        "\n",
        "fig, axes = plt.subplots(1, 2, figsize=(15, 8))\n",
        "\n",
        "commonParams=dict(scheme=\"quantiles\",cmap=\"Reds_r\",legend=True)\n",
        "# --- MAP 1\n",
        "peru_distritos.plot(\"Educ_sec_comp2019_pct\",ax=axes[0],**commonParams)\n",
        "axes[0].set_title('Share Population HS Completed (original)', fontsize=14)\n",
        "axes[0].set_axis_off()\n",
        "\n",
        "# --- MAP 2\n",
        "peru_distritos.plot(\"Educ_sec_comp2019_pct_lagged\",ax=axes[1],**commonParams)\n",
        "axes[1].set_title('Share Population HS Completed (lagged)', fontsize=14)\n",
        "axes[1].set_axis_off()\n",
        "\n",
        "plt.tight_layout()\n",
        "plt.show()\n"
      ]
    },
    {
      "cell_type": "code",
      "execution_count": null,
      "id": "359439d7-aeb2-47f1-bca8-2e4e11fdad37",
      "metadata": {
        "id": "359439d7-aeb2-47f1-bca8-2e4e11fdad37"
      },
      "outputs": [],
      "source": [
        "peru_distritos.plot.scatter(\"Educ_sec_comp2019_pct\",\"Educ_sec_comp2019_pct_lagged\")"
      ]
    },
    {
      "cell_type": "markdown",
      "id": "8b1899e2-554d-41ce-b38b-0830802ccaae",
      "metadata": {
        "id": "8b1899e2-554d-41ce-b38b-0830802ccaae"
      },
      "source": [
        "## Global spatial correlation\n",
        "\n",
        "If a spatial unit (a row) value in a variable is correlated with values of the neighbors, you know that proximity is interfering with the interpretation.\n",
        "\n",
        "We need the neighboorhood matrix (the weight matrix) to compute spatial correlation."
      ]
    },
    {
      "cell_type": "code",
      "execution_count": null,
      "id": "9402b558-02de-42c5-be7c-39987c969bec",
      "metadata": {
        "id": "9402b558-02de-42c5-be7c-39987c969bec"
      },
      "outputs": [],
      "source": [
        "import esda\n",
        "\n",
        "mi = esda.Moran(peru_distritos['Educ_sec_comp2019_pct'], peru_distritos_queen)"
      ]
    },
    {
      "cell_type": "code",
      "execution_count": null,
      "id": "78bf9464-dcfc-40e3-8188-933ebc80ab03",
      "metadata": {
        "id": "78bf9464-dcfc-40e3-8188-933ebc80ab03"
      },
      "outputs": [],
      "source": [
        "mi.I,mi.p_sim"
      ]
    },
    {
      "cell_type": "markdown",
      "id": "2b6a56a5-c9ff-4642-9e57-a98b9195c867",
      "metadata": {
        "id": "2b6a56a5-c9ff-4642-9e57-a98b9195c867"
      },
      "source": [
        "## Local Spatial Correlation\n",
        "\n",
        "We can compute a Local Index of Spatial Association (LISA -local Moran) for each map object. That will help us find spatial clusters (spots) and spatial outliers:\n",
        "\n",
        "* A **hotSpot** is a polygon whose value in the variable is high AND is surrounded with polygons with also high values.\n",
        "\n",
        "* A **coldSpot** is a polygon whose value in the variable is low AND is surrounded with polygons with also low values.\n",
        "\n",
        "* A **coldOutlier** is a polygon whose value in the variable is low BUT is surrounded with polygons with  high values.\n",
        "\n",
        "* A **hotOutlier** is a polygon whose value in the variable is high BUT is surrounded with polygons with  low values.\n",
        "\n",
        "\n",
        "High-High (HH): values above average surrounded by values above average.\n",
        "Low-Low (LL): values below average surrounded by values below average.\n",
        "High-Low (HL): values above average surrounded by values below average.\n",
        "Low-High (LH): values below average surrounded by values above average.\n",
        "\n",
        "It is also possible that no significant correlation is detected. Let's see those values:"
      ]
    },
    {
      "cell_type": "code",
      "execution_count": null,
      "id": "20b41ac6-090c-4e59-ba4c-91ccbd7063f7",
      "metadata": {
        "id": "20b41ac6-090c-4e59-ba4c-91ccbd7063f7"
      },
      "outputs": [],
      "source": [
        "lisa = esda.Moran_Local(peru_distritos['Educ_sec_comp2019_pct'], peru_distritos_queen)"
      ]
    },
    {
      "cell_type": "code",
      "execution_count": null,
      "id": "c00c7096-0437-425d-befb-e23904e8aea5",
      "metadata": {
        "id": "c00c7096-0437-425d-befb-e23904e8aea5"
      },
      "outputs": [],
      "source": [
        "peru_distritos['cluster'] = lisa.get_cluster_labels(crit_value=0.05)"
      ]
    },
    {
      "cell_type": "code",
      "execution_count": null,
      "id": "b3358768-527c-40b3-b957-c94c658797d9",
      "metadata": {
        "id": "b3358768-527c-40b3-b957-c94c658797d9"
      },
      "outputs": [],
      "source": [
        "peru_distritos['cluster'].value_counts()"
      ]
    },
    {
      "cell_type": "code",
      "execution_count": null,
      "id": "25ce458f-23b8-48b8-98d6-22f7c0198450",
      "metadata": {
        "id": "25ce458f-23b8-48b8-98d6-22f7c0198450"
      },
      "outputs": [],
      "source": [
        "lisa.explore(peru_distritos,crit_value=0.05,\n",
        "  prefer_canvas=True,\n",
        "  tiles=\"CartoDB Positron\",\n",
        ")"
      ]
    },
    {
      "cell_type": "code",
      "execution_count": null,
      "id": "5c2a20a5-1396-4bc4-bd67-bd5c86d260e7",
      "metadata": {
        "id": "5c2a20a5-1396-4bc4-bd67-bd5c86d260e7"
      },
      "outputs": [],
      "source": [
        "\n",
        "oldLabels=['Insignificant', 'High-High','Low-High', 'Low-Low', 'High-Low']\n",
        "newLabels = [ '0 no_sig', '1 hotSpot', '2 coldOutlier', '3 coldSpot', '4 hotOutlier']\n",
        "\n",
        "labels = dict(zip(oldLabels, newLabels))\n",
        "\n",
        "\n",
        "peru_distritos['HS_lisa_quadrant']=peru_distritos['cluster'].map(labels)\n",
        "\n",
        "peru_distritos['HS_lisa_quadrant'].value_counts()"
      ]
    },
    {
      "cell_type": "code",
      "execution_count": null,
      "id": "c52f4c28-3b61-4b69-a40c-88ab96ee3acc",
      "metadata": {
        "id": "c52f4c28-3b61-4b69-a40c-88ab96ee3acc"
      },
      "outputs": [],
      "source": [
        "import matplotlib.pyplot as plt\n",
        "# custom colors\n",
        "from matplotlib import colors\n",
        "myColMap = colors.ListedColormap([ 'snow','pink','blue', 'lightblue','red'])\n",
        "\n",
        "peru_distritos.plot(column='HS_lisa_quadrant',\n",
        "                categorical=True,\n",
        "                cmap=myColMap,\n",
        "                linewidth=0.1,\n",
        "                edgecolor='k',\n",
        "                legend=True,\n",
        "                legend_kwds={'bbox_to_anchor': (0.3, 0.3)},\n",
        "                figsize=(12,12))\n"
      ]
    }
  ],
  "metadata": {
    "kernelspec": {
      "display_name": "Python 3 (ipykernel)",
      "language": "python",
      "name": "python3"
    },
    "language_info": {
      "codemirror_mode": {
        "name": "ipython",
        "version": 3
      },
      "file_extension": ".py",
      "mimetype": "text/x-python",
      "name": "python",
      "nbconvert_exporter": "python",
      "pygments_lexer": "ipython3",
      "version": "3.11.13"
    },
    "colab": {
      "provenance": []
    }
  },
  "nbformat": 4,
  "nbformat_minor": 5
}